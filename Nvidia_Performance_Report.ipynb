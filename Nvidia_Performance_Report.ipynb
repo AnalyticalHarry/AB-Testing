{
  "nbformat": 4,
  "nbformat_minor": 0,
  "metadata": {
    "colab": {
      "provenance": [],
      "authorship_tag": "ABX9TyPZH9rF5IWGBolhitINcwiK",
      "include_colab_link": true
    },
    "kernelspec": {
      "name": "python3",
      "display_name": "Python 3"
    },
    "language_info": {
      "name": "python"
    }
  },
  "cells": [
    {
      "cell_type": "markdown",
      "metadata": {
        "id": "view-in-github",
        "colab_type": "text"
      },
      "source": [
        "<a href=\"https://colab.research.google.com/github/AnalyticalHarry/FutureAndOption/blob/main/Nvidia_Performance_Report.ipynb\" target=\"_parent\"><img src=\"https://colab.research.google.com/assets/colab-badge.svg\" alt=\"Open In Colab\"/></a>"
      ]
    },
    {
      "cell_type": "markdown",
      "source": [
        "# **Performance Analysis**"
      ],
      "metadata": {
        "id": "WzHGG7PLGG0A"
      }
    },
    {
      "cell_type": "markdown",
      "source": [
        "## **Hemant Thapa**"
      ],
      "metadata": {
        "id": "VXdcgHmGGMkv"
      }
    },
    {
      "cell_type": "code",
      "source": [
        "ticker = 'AAPL'\n",
        "data = get_data(ticker, '1d')"
      ],
      "metadata": {
        "colab": {
          "base_uri": "https://localhost:8080/"
        },
        "id": "qTWYWgEHE_bd",
        "outputId": "df8b186e-2d3f-4487-9c66-1174981f09e9"
      },
      "execution_count": 5,
      "outputs": [
        {
          "output_type": "stream",
          "name": "stderr",
          "text": [
            "\r[*********************100%%**********************]  1 of 1 completed\n"
          ]
        }
      ]
    },
    {
      "cell_type": "code",
      "source": [
        "import yfinance as yf\n",
        "from tabulate import tabulate\n",
        "from datetime import datetime, timedelta\n",
        "from performance import get_data, format_price, format_percentage\n",
        "from performance import performance, performance_metrics, get_price_history\n",
        "from performance import fundamental_data, analyst_estimates, price_performance"
      ],
      "metadata": {
        "id": "jh3MdgosDI8u"
      },
      "execution_count": 4,
      "outputs": []
    },
    {
      "cell_type": "code",
      "source": [
        "price_performance(ticker, data)"
      ],
      "metadata": {
        "colab": {
          "base_uri": "https://localhost:8080/"
        },
        "id": "siIxRZqIKRrC",
        "outputId": "75ae2dd3-0e4e-46cb-98ce-e55b28b1cf9c"
      },
      "execution_count": 6,
      "outputs": [
        {
          "output_type": "stream",
          "name": "stderr",
          "text": [
            "[*********************100%%**********************]  1 of 1 completed\n",
            "[*********************100%%**********************]  1 of 1 completed\n",
            "[*********************100%%**********************]  1 of 1 completed\n",
            "[*********************100%%**********************]  1 of 1 completed\n",
            "[*********************100%%**********************]  1 of 1 completed\n",
            "[*********************100%%**********************]  1 of 1 completed\n",
            "[*********************100%%**********************]  1 of 1 completed\n",
            "[*********************100%%**********************]  1 of 1 completed\n",
            "[*********************100%%**********************]  1 of 1 completed\n",
            "[*********************100%%**********************]  1 of 1 completed\n"
          ]
        },
        {
          "output_type": "stream",
          "name": "stdout",
          "text": [
            "Company (AAPL)\n",
            "196.88999938964844 +2.23 (+1.15%) 06/07/24 [NASDAQ]\n",
            "POST-MARKET 195.76 -1.13 (-0.09%) 19:59 ET\n",
            "PERFORMANCE REPORT for Fri, Jun 07\n",
            "\n",
            "Daily\n",
            "Past 5 Days\n",
            " Date                |   Open |   High |    Low |   Close |   Change |    %Chg |   Volume\n",
            "---------------------+--------+--------+--------+---------+----------+---------+----------\n",
            " 2024-06-07 00:00:00 | 194.66 | 196.94 | 194.14 |  196.89 |     2.23 | 1.14558 | 53103912\n",
            "\n",
            "1-YEAR PERFORMANCE\n",
            "Price Performance\n",
            " Period   |   Period_Low_Raw |   Period_High_Raw | Period Low                    | Period High                      | Performance   | Period Open\n",
            "----------+------------------+-------------------+-------------------------------+----------------------------------+---------------+---------------\n",
            " 5d       |       194.14     |            196.94 | $194.14 (-0.27%) on 06/07/24  | $196.94 (1.17%) on 06/07/24      | 1.15%         | $194.66\n",
            " 1mo      |       192.52     |            196.94 | $192.52 (-0.20%) on 06/01/24  | $196.94 (2.09%) on 06/01/24      | 2.07%         | $192.90\n",
            " 3mo      |       164.08     |            196.94 | $164.08 (-4.15%) on 04/01/24  | $196.94 (15.04%) on 06/01/24     | 15.01%        | $171.19\n",
            " 6mo      |       164.08     |            196.94 | $164.08 (-12.33%) on 04/01/24 | $196.94 (5.23%) on 06/01/24      | 5.20%         | $187.15\n",
            " ytd      |       164.08     |            196.94 | $164.08 (-10.82%) on 04/01/24 | $196.94 (7.04%) on 06/01/24      | 7.01%         | $183.99\n",
            " 1y       |       164.08     |            199.62 | $164.08 (-15.33%) on 04/01/24 | $199.62 (3.01%) on 12/01/23      | 1.60%         | $193.78\n",
            " 2y       |       124.17     |            199.62 | $124.17 (-8.73%) on 01/01/23  | $199.62 (46.74%) on 12/01/23     | 44.73%        | $136.04\n",
            " 5y       |        48.145    |            199.62 | $48.15 (-5.21%) on 08/01/19   | $199.62 (293.01%) on 12/01/23    | 287.64%       | $50.79\n",
            " 10y      |        22.3675   |            199.62 | $22.37 (-4.33%) on 05/01/16   | $199.62 (753.81%) on 12/01/23    | 742.13%       | $23.38\n",
            " max      |         0.064732 |            199.62 | $0.06 (-50.21%) on 08/01/85   | $199.62 (153427.86%) on 12/01/23 | 151328.21%    | $0.13\n",
            "\n",
            "Key Statistics\n",
            " Previous Close    |           $194.48\n",
            " Day Range         | $194.14 - $196.94\n",
            " 52 Week Range     | $164.08 - $199.62\n",
            " Volume            |          53103912\n",
            " Avg. Volume       |          60228171\n",
            " Market Cap        | $3019131060224.00\n",
            " Beta (5Y Monthly) |              1.25\n"
          ]
        }
      ]
    }
  ]
}