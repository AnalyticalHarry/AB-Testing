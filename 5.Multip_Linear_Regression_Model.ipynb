{
 "cells": [
  {
   "cell_type": "markdown",
   "id": "48adc471",
   "metadata": {},
   "source": [
    "# <font color='blue'>Multiple Linear Regression"
   ]
  },
  {
   "cell_type": "markdown",
   "id": "b96f9753",
   "metadata": {},
   "source": [
    "### Hemant Thapa"
   ]
  },
  {
   "cell_type": "markdown",
   "id": "1fc6969e",
   "metadata": {},
   "source": [
    "Regression models are used to describe relationships between variables by fitting a line to the observed data. Regression allows you to estimate how a dependent variable changes as the independent variable(s) change."
   ]
  },
  {
   "cell_type": "markdown",
   "id": "b42c2589",
   "metadata": {},
   "source": [
    "Multiple linear regression is used to estimate the relationship between two or more independent variables and one dependent variable.\n",
    "\n",
    "Multiple linear regression is a type of regression analysis that is used to model the relationship between one dependent (response) variable and two or more independent (predictor) variables. It assumes a linear relationship between the predictors and the response variable, and models this relationship using a set of coefficients. The goal of multiple linear regression is to find the best-fitting line (i.e., the line that minimizes the difference between the predicted values and the true values) that describes this relationship.\n",
    "\n",
    "Multiple linear regression works by fitting a linear equation to the data, where the response variable is modeled as a linear combination of the predictors. The coefficients of the equation are estimated from the training data, and the equation can then be used to make predictions on new, unseen data.\n",
    "\n",
    "For example, if we have data on the size of houses and their prices, we could use multiple linear regression to model the relationship between the size of the houses (predictors) and their prices (response variable). The fitted equation would take the form of:\n",
    "\n",
    "price = β0 + β1 * size1 + β2 * size2 + ... + βp * sizep\n",
    "\n",
    "where β0, β1, β2, ..., βp are the coefficients of the equation, size1, size2, ..., sizep are the predictors, and price is the response variable. The goal of multiple linear regression is to find the coefficients that best fit the data, so that we can use the equation to make predictions on new, unseen data.\n",
    "\n",
    "\n",
    "\n"
   ]
  },
  {
   "cell_type": "markdown",
   "id": "fc4f34fc",
   "metadata": {},
   "source": [
    "## LIBRARIES"
   ]
  },
  {
   "cell_type": "code",
   "execution_count": 605,
   "id": "8a0fdf25",
   "metadata": {},
   "outputs": [],
   "source": [
    "import pandas as pd\n",
    "import numpy as np\n",
    "import matplotlib.pyplot as plt\n",
    "import seaborn as sns\n",
    "from sklearn.model_selection import train_test_split\n",
    "from sklearn.preprocessing import MinMaxScaler, StandardScaler\n",
    "from sklearn.linear_model import LinearRegression\n",
    "from sklearn.metrics import mean_squared_error, r2_score"
   ]
  },
  {
   "cell_type": "markdown",
   "id": "09bd9627",
   "metadata": {},
   "source": [
    "### 1. from sklearn.model_selection import train_test_split\n",
    "\n",
    "The train_test_split function from the sklearn.model_selection module is used for splitting a dataset into two parts: a training set and a test set. The training set is used for training a machine learning model, while the test set is used for evaluating its performance. This helps in preventing overfitting, where a model performs well on the training data but poorly on unseen data."
   ]
  },
  {
   "cell_type": "markdown",
   "id": "acb9e3b8",
   "metadata": {},
   "source": [
    "### 2. from sklearn.preprocessing import MinMaxScaler, StandardScaler\n",
    "\n",
    "The MinMaxScaler and StandardScaler classes from the sklearn.preprocessing module are used for normalizing the features of a dataset.\n",
    "\n",
    "MinMaxScaler scales the features of a dataset to a given range, usually between 0 and 1.\n",
    "\n",
    "StandardScaler scales the features of a dataset so that they have zero mean and unit variance. This is often used for algorithms that are sensitive to the scale of the input features."
   ]
  },
  {
   "cell_type": "markdown",
   "id": "44ff8df8",
   "metadata": {},
   "source": [
    "### 3. from sklearn.linear_model import LinearRegression\n",
    "\n",
    "The LinearRegression class from the sklearn.linear_model module implements linear regression. It is a supervised machine learning algorithm used for regression problems, where the goal is to predict a continuous target variable based on one or more independent variables (features).\n",
    "\n",
    "Linear regression models the relationship between the target variable and the features as a linear equation. The goal is to find the best-fitting line (i.e., the line that minimizes the difference between the predicted values and the true values). The coefficients of the line are learned from the training data, and then used to make predictions on new, unseen data."
   ]
  },
  {
   "cell_type": "markdown",
   "id": "a264167f",
   "metadata": {},
   "source": [
    "### 4.from sklearn.metrics import mean_squared_error, r2_score \n",
    "\n",
    "The mean_squared_error and r2_score functions from the sklearn.metrics module are used for evaluating the performance of a regression model.\n",
    "\n",
    "mean_squared_error calculates the mean squared error between the true target values and the predicted values. The mean squared error is the average of the squared differences between the predictions and the true values, and it is used as a measure of the quality of the regression model.\n",
    "\n",
    "r2_score calculates the R² (coefficient of determination) regression score. It is a statistical measure of how well the regression model fits the data. The R² score lies between 0 and 1, where 1 means the model fits the data perfectly, and 0 means the model predicts the mean of the target variable for all inputs."
   ]
  },
  {
   "cell_type": "markdown",
   "id": "15b9e4b3",
   "metadata": {},
   "source": [
    "## DATASET 1"
   ]
  },
  {
   "cell_type": "code",
   "execution_count": 382,
   "id": "849a8a0a",
   "metadata": {},
   "outputs": [],
   "source": [
    "X = [1,2,3,4,5,6,7,8,6,7]\n",
    "y = [0,0,0,0,0,1,1,1,1,1]"
   ]
  },
  {
   "cell_type": "markdown",
   "id": "e01a315d",
   "metadata": {},
   "source": [
    "#### Shuffle is equal to False and test size 0.2"
   ]
  },
  {
   "cell_type": "code",
   "execution_count": 383,
   "id": "b6b90727",
   "metadata": {},
   "outputs": [],
   "source": [
    "x_train,x_test,y_train,y_test = train_test_split(X,y,test_size=0.2,\n",
    "                                                 shuffle=False)"
   ]
  },
  {
   "cell_type": "code",
   "execution_count": 384,
   "id": "5afe6e18",
   "metadata": {},
   "outputs": [
    {
     "name": "stdout",
     "output_type": "stream",
     "text": [
      "y_train [0, 0, 0, 0, 0, 1, 1, 1]\n",
      "y_test [1, 1]\n"
     ]
    }
   ],
   "source": [
    "#which prints: (notice there are no 0 labels in the test set)\n",
    "print(f\"y_train {y_train}\")\n",
    "print(f\"y_test {y_test}\")"
   ]
  },
  {
   "cell_type": "markdown",
   "id": "4a0ef6eb",
   "metadata": {},
   "source": [
    "#### Shuffle is equal to True and test size 0.2"
   ]
  },
  {
   "cell_type": "code",
   "execution_count": 385,
   "id": "b3e478f1",
   "metadata": {},
   "outputs": [],
   "source": [
    "x_train,x_test,y_train,y_test = train_test_split(X,y,test_size=0.2,\n",
    "                                                 shuffle=True)"
   ]
  },
  {
   "cell_type": "code",
   "execution_count": 386,
   "id": "8be1b8b0",
   "metadata": {},
   "outputs": [
    {
     "name": "stdout",
     "output_type": "stream",
     "text": [
      "y_train [0, 0, 1, 1, 0, 0, 0, 1]\n",
      "y_test [1, 1]\n"
     ]
    }
   ],
   "source": [
    "#notice there is now a 0 label in the test set\n",
    "print(f\"y_train {y_train}\")\n",
    "print(f\"y_test {y_test}\")"
   ]
  },
  {
   "cell_type": "markdown",
   "id": "c53fe483",
   "metadata": {},
   "source": [
    "#### Test size 0.5"
   ]
  },
  {
   "cell_type": "markdown",
   "id": "84fbaf0b",
   "metadata": {},
   "source": [
    "A further way to ensure that data is represented equally in both the training and testing data is to make use of the stratify parameter. This ensures that labels are represented in as close to the same proportions as possible in both the training and testing data."
   ]
  },
  {
   "cell_type": "code",
   "execution_count": 387,
   "id": "d0d4877f",
   "metadata": {},
   "outputs": [],
   "source": [
    "x_train,x_test,y_train,y_test=train_test_split(X,y,test_size= 0.5,\n",
    "shuffle=True, stratify=y)\n",
    "#note that the labels are now distributed in the same proportion across thetrain and test sets"
   ]
  },
  {
   "cell_type": "code",
   "execution_count": 388,
   "id": "5618fc03",
   "metadata": {},
   "outputs": [
    {
     "name": "stdout",
     "output_type": "stream",
     "text": [
      "y_train [1, 1, 0, 0, 1]\n",
      "y_test [0, 0, 1, 0, 1]\n"
     ]
    }
   ],
   "source": [
    "#notice there is now a 0 label in the test set\n",
    "print(f\"y_train {y_train}\")\n",
    "print(f\"y_test {y_test}\")"
   ]
  },
  {
   "cell_type": "markdown",
   "id": "2c3edb32",
   "metadata": {},
   "source": [
    "### DATSET2 - Simple Multiple Linear Regression"
   ]
  },
  {
   "cell_type": "code",
   "execution_count": 479,
   "id": "12d7289a",
   "metadata": {},
   "outputs": [
    {
     "data": {
      "text/html": [
       "<div>\n",
       "<style scoped>\n",
       "    .dataframe tbody tr th:only-of-type {\n",
       "        vertical-align: middle;\n",
       "    }\n",
       "\n",
       "    .dataframe tbody tr th {\n",
       "        vertical-align: top;\n",
       "    }\n",
       "\n",
       "    .dataframe thead th {\n",
       "        text-align: right;\n",
       "    }\n",
       "</style>\n",
       "<table border=\"1\" class=\"dataframe\">\n",
       "  <thead>\n",
       "    <tr style=\"text-align: right;\">\n",
       "      <th></th>\n",
       "      <th>TV</th>\n",
       "      <th>radio</th>\n",
       "      <th>newspaper</th>\n",
       "      <th>sales</th>\n",
       "    </tr>\n",
       "  </thead>\n",
       "  <tbody>\n",
       "    <tr>\n",
       "      <th>1</th>\n",
       "      <td>230.1</td>\n",
       "      <td>37.8</td>\n",
       "      <td>69.2</td>\n",
       "      <td>22.1</td>\n",
       "    </tr>\n",
       "    <tr>\n",
       "      <th>2</th>\n",
       "      <td>44.5</td>\n",
       "      <td>39.3</td>\n",
       "      <td>45.1</td>\n",
       "      <td>10.4</td>\n",
       "    </tr>\n",
       "    <tr>\n",
       "      <th>3</th>\n",
       "      <td>17.2</td>\n",
       "      <td>45.9</td>\n",
       "      <td>69.3</td>\n",
       "      <td>9.3</td>\n",
       "    </tr>\n",
       "    <tr>\n",
       "      <th>4</th>\n",
       "      <td>151.5</td>\n",
       "      <td>41.3</td>\n",
       "      <td>58.5</td>\n",
       "      <td>18.5</td>\n",
       "    </tr>\n",
       "    <tr>\n",
       "      <th>5</th>\n",
       "      <td>180.8</td>\n",
       "      <td>10.8</td>\n",
       "      <td>58.4</td>\n",
       "      <td>12.9</td>\n",
       "    </tr>\n",
       "  </tbody>\n",
       "</table>\n",
       "</div>"
      ],
      "text/plain": [
       "      TV  radio  newspaper  sales\n",
       "1  230.1   37.8       69.2   22.1\n",
       "2   44.5   39.3       45.1   10.4\n",
       "3   17.2   45.9       69.3    9.3\n",
       "4  151.5   41.3       58.5   18.5\n",
       "5  180.8   10.8       58.4   12.9"
      ]
     },
     "execution_count": 479,
     "metadata": {},
     "output_type": "execute_result"
    }
   ],
   "source": [
    "data = pd.read_csv('Advertising.csv', index_col=0)\n",
    "data.head()"
   ]
  },
  {
   "cell_type": "markdown",
   "id": "05731c3c",
   "metadata": {},
   "source": [
    "The index_col parameter in the pd.read_csv function is used to specify the index column of the resulting DataFrame. The index is used to identify each row in the DataFrame, and can be used for slicing, merging, and joining operations.\n",
    "\n",
    "In the code, index_col=0 specifies that the first column of the CSV file should be used as the index of the DataFrame. This means that the first column of the file will not be included as a regular data column, but rather will be used as the index of the resulting DataFrame."
   ]
  },
  {
   "cell_type": "markdown",
   "id": "237d8d66",
   "metadata": {},
   "source": [
    "### TV simple Linear Model"
   ]
  },
  {
   "cell_type": "code",
   "execution_count": 480,
   "id": "37ee90ba",
   "metadata": {},
   "outputs": [
    {
     "data": {
      "text/plain": [
       "array([[230.1],\n",
       "       [ 44.5],\n",
       "       [ 17.2],\n",
       "       [151.5],\n",
       "       [180.8]])"
      ]
     },
     "execution_count": 480,
     "metadata": {},
     "output_type": "execute_result"
    }
   ],
   "source": [
    "#columns tv\n",
    "x = data.iloc[:,0]\n",
    "x = x.values.reshape(-1,1)\n",
    "x[0:5]"
   ]
  },
  {
   "cell_type": "code",
   "execution_count": 481,
   "id": "3892e505",
   "metadata": {},
   "outputs": [
    {
     "data": {
      "text/plain": [
       "array([[22.1],\n",
       "       [10.4],\n",
       "       [ 9.3],\n",
       "       [18.5],\n",
       "       [12.9]])"
      ]
     },
     "execution_count": 481,
     "metadata": {},
     "output_type": "execute_result"
    }
   ],
   "source": [
    "#Columns \n",
    "y = data.iloc[:,3]\n",
    "y = y.values.reshape(-1,1)\n",
    "y[0:5]"
   ]
  },
  {
   "cell_type": "markdown",
   "id": "e1632319",
   "metadata": {},
   "source": [
    " 1.  y = data.iloc[:,0] - This line is assigning the first column of the data DataFrame to the variable \"y\". \n",
    "The \".iloc\" accessor is used to index the DataFrame, and \":0\" specifies the first column (the first column has index 0).\n",
    "\n",
    "2. y = data.values.reshape(-1,1) - This line is reassigning the variable \"y\" to the same data, but reshaped into a numpy array with shape (-1,1). The \".values\" accessor returns the underlying numpy array representation of the DataFrame. The \"reshape\" method is used to specify the desired shape of the array, in this case (-1,1) meaning an unknown number of rows (specified by -1) and 1 column.\n",
    "\n",
    "3. y[0:5] - This line is indexing the first 5 elements of the array assigned to \"y\". The result will be a numpy array with shape (5,1)."
   ]
  },
  {
   "cell_type": "code",
   "execution_count": 482,
   "id": "eaaf784c",
   "metadata": {},
   "outputs": [
    {
     "data": {
      "text/html": [
       "<style>#sk-container-id-20 {color: black;background-color: white;}#sk-container-id-20 pre{padding: 0;}#sk-container-id-20 div.sk-toggleable {background-color: white;}#sk-container-id-20 label.sk-toggleable__label {cursor: pointer;display: block;width: 100%;margin-bottom: 0;padding: 0.3em;box-sizing: border-box;text-align: center;}#sk-container-id-20 label.sk-toggleable__label-arrow:before {content: \"▸\";float: left;margin-right: 0.25em;color: #696969;}#sk-container-id-20 label.sk-toggleable__label-arrow:hover:before {color: black;}#sk-container-id-20 div.sk-estimator:hover label.sk-toggleable__label-arrow:before {color: black;}#sk-container-id-20 div.sk-toggleable__content {max-height: 0;max-width: 0;overflow: hidden;text-align: left;background-color: #f0f8ff;}#sk-container-id-20 div.sk-toggleable__content pre {margin: 0.2em;color: black;border-radius: 0.25em;background-color: #f0f8ff;}#sk-container-id-20 input.sk-toggleable__control:checked~div.sk-toggleable__content {max-height: 200px;max-width: 100%;overflow: auto;}#sk-container-id-20 input.sk-toggleable__control:checked~label.sk-toggleable__label-arrow:before {content: \"▾\";}#sk-container-id-20 div.sk-estimator input.sk-toggleable__control:checked~label.sk-toggleable__label {background-color: #d4ebff;}#sk-container-id-20 div.sk-label input.sk-toggleable__control:checked~label.sk-toggleable__label {background-color: #d4ebff;}#sk-container-id-20 input.sk-hidden--visually {border: 0;clip: rect(1px 1px 1px 1px);clip: rect(1px, 1px, 1px, 1px);height: 1px;margin: -1px;overflow: hidden;padding: 0;position: absolute;width: 1px;}#sk-container-id-20 div.sk-estimator {font-family: monospace;background-color: #f0f8ff;border: 1px dotted black;border-radius: 0.25em;box-sizing: border-box;margin-bottom: 0.5em;}#sk-container-id-20 div.sk-estimator:hover {background-color: #d4ebff;}#sk-container-id-20 div.sk-parallel-item::after {content: \"\";width: 100%;border-bottom: 1px solid gray;flex-grow: 1;}#sk-container-id-20 div.sk-label:hover label.sk-toggleable__label {background-color: #d4ebff;}#sk-container-id-20 div.sk-serial::before {content: \"\";position: absolute;border-left: 1px solid gray;box-sizing: border-box;top: 0;bottom: 0;left: 50%;z-index: 0;}#sk-container-id-20 div.sk-serial {display: flex;flex-direction: column;align-items: center;background-color: white;padding-right: 0.2em;padding-left: 0.2em;position: relative;}#sk-container-id-20 div.sk-item {position: relative;z-index: 1;}#sk-container-id-20 div.sk-parallel {display: flex;align-items: stretch;justify-content: center;background-color: white;position: relative;}#sk-container-id-20 div.sk-item::before, #sk-container-id-20 div.sk-parallel-item::before {content: \"\";position: absolute;border-left: 1px solid gray;box-sizing: border-box;top: 0;bottom: 0;left: 50%;z-index: -1;}#sk-container-id-20 div.sk-parallel-item {display: flex;flex-direction: column;z-index: 1;position: relative;background-color: white;}#sk-container-id-20 div.sk-parallel-item:first-child::after {align-self: flex-end;width: 50%;}#sk-container-id-20 div.sk-parallel-item:last-child::after {align-self: flex-start;width: 50%;}#sk-container-id-20 div.sk-parallel-item:only-child::after {width: 0;}#sk-container-id-20 div.sk-dashed-wrapped {border: 1px dashed gray;margin: 0 0.4em 0.5em 0.4em;box-sizing: border-box;padding-bottom: 0.4em;background-color: white;}#sk-container-id-20 div.sk-label label {font-family: monospace;font-weight: bold;display: inline-block;line-height: 1.2em;}#sk-container-id-20 div.sk-label-container {text-align: center;}#sk-container-id-20 div.sk-container {/* jupyter's `normalize.less` sets `[hidden] { display: none; }` but bootstrap.min.css set `[hidden] { display: none !important; }` so we also need the `!important` here to be able to override the default hidden behavior on the sphinx rendered scikit-learn.org. See: https://github.com/scikit-learn/scikit-learn/issues/21755 */display: inline-block !important;position: relative;}#sk-container-id-20 div.sk-text-repr-fallback {display: none;}</style><div id=\"sk-container-id-20\" class=\"sk-top-container\"><div class=\"sk-text-repr-fallback\"><pre>LinearRegression()</pre><b>In a Jupyter environment, please rerun this cell to show the HTML representation or trust the notebook. <br />On GitHub, the HTML representation is unable to render, please try loading this page with nbviewer.org.</b></div><div class=\"sk-container\" hidden><div class=\"sk-item\"><div class=\"sk-estimator sk-toggleable\"><input class=\"sk-toggleable__control sk-hidden--visually\" id=\"sk-estimator-id-20\" type=\"checkbox\" checked><label for=\"sk-estimator-id-20\" class=\"sk-toggleable__label sk-toggleable__label-arrow\">LinearRegression</label><div class=\"sk-toggleable__content\"><pre>LinearRegression()</pre></div></div></div></div></div>"
      ],
      "text/plain": [
       "LinearRegression()"
      ]
     },
     "execution_count": 482,
     "metadata": {},
     "output_type": "execute_result"
    }
   ],
   "source": [
    "#Creating a Linear Regression model\n",
    "model = LinearRegression()\n",
    "model.fit(x,y)"
   ]
  },
  {
   "cell_type": "code",
   "execution_count": 483,
   "id": "fc2022db",
   "metadata": {},
   "outputs": [
    {
     "data": {
      "text/plain": [
       "array([[17.97077451],\n",
       "       [ 9.14797405],\n",
       "       [ 7.85022376],\n",
       "       [14.23439457],\n",
       "       [15.62721814]])"
      ]
     },
     "execution_count": 483,
     "metadata": {},
     "output_type": "execute_result"
    }
   ],
   "source": [
    "y_pred = model.predict(x)\n",
    "y_pred[0:5]"
   ]
  },
  {
   "cell_type": "code",
   "execution_count": 484,
   "id": "dbaecc9e",
   "metadata": {},
   "outputs": [
    {
     "data": {
      "image/png": "[encoded data removed]",
      "text/plain": [
       "<Figure size 800x500 with 1 Axes>"
      ]
     },
     "metadata": {},
     "output_type": "display_data"
    }
   ],
   "source": [
    "plt.figure(figsize=(8,5))\n",
    "sns.scatterplot(data=data, x='TV',y='sales', color='black')\n",
    "plt.plot(x,y_pred, color='red')\n",
    "plt.title('Sales v/s TV Budget')\n",
    "plt.show()\n",
    "plt.close()"
   ]
  },
  {
   "cell_type": "code",
   "execution_count": 485,
   "id": "609b9e4a",
   "metadata": {},
   "outputs": [
    {
     "name": "stdout",
     "output_type": "stream",
     "text": [
      "Coefficents: \n",
      " [[0.04753664]]\n"
     ]
    }
   ],
   "source": [
    "#Coefficients\n",
    "print('Coefficents: \\n', model.coef_)"
   ]
  },
  {
   "cell_type": "markdown",
   "id": "ba2a87c9",
   "metadata": {},
   "source": [
    "#### Radio Simple Linear Regression"
   ]
  },
  {
   "cell_type": "code",
   "execution_count": 486,
   "id": "7f6bdb22",
   "metadata": {},
   "outputs": [
    {
     "data": {
      "text/html": [
       "<div>\n",
       "<style scoped>\n",
       "    .dataframe tbody tr th:only-of-type {\n",
       "        vertical-align: middle;\n",
       "    }\n",
       "\n",
       "    .dataframe tbody tr th {\n",
       "        vertical-align: top;\n",
       "    }\n",
       "\n",
       "    .dataframe thead th {\n",
       "        text-align: right;\n",
       "    }\n",
       "</style>\n",
       "<table border=\"1\" class=\"dataframe\">\n",
       "  <thead>\n",
       "    <tr style=\"text-align: right;\">\n",
       "      <th></th>\n",
       "      <th>TV</th>\n",
       "      <th>radio</th>\n",
       "      <th>newspaper</th>\n",
       "      <th>sales</th>\n",
       "    </tr>\n",
       "  </thead>\n",
       "  <tbody>\n",
       "    <tr>\n",
       "      <th>1</th>\n",
       "      <td>230.1</td>\n",
       "      <td>37.8</td>\n",
       "      <td>69.2</td>\n",
       "      <td>22.1</td>\n",
       "    </tr>\n",
       "    <tr>\n",
       "      <th>2</th>\n",
       "      <td>44.5</td>\n",
       "      <td>39.3</td>\n",
       "      <td>45.1</td>\n",
       "      <td>10.4</td>\n",
       "    </tr>\n",
       "    <tr>\n",
       "      <th>3</th>\n",
       "      <td>17.2</td>\n",
       "      <td>45.9</td>\n",
       "      <td>69.3</td>\n",
       "      <td>9.3</td>\n",
       "    </tr>\n",
       "    <tr>\n",
       "      <th>4</th>\n",
       "      <td>151.5</td>\n",
       "      <td>41.3</td>\n",
       "      <td>58.5</td>\n",
       "      <td>18.5</td>\n",
       "    </tr>\n",
       "    <tr>\n",
       "      <th>5</th>\n",
       "      <td>180.8</td>\n",
       "      <td>10.8</td>\n",
       "      <td>58.4</td>\n",
       "      <td>12.9</td>\n",
       "    </tr>\n",
       "  </tbody>\n",
       "</table>\n",
       "</div>"
      ],
      "text/plain": [
       "      TV  radio  newspaper  sales\n",
       "1  230.1   37.8       69.2   22.1\n",
       "2   44.5   39.3       45.1   10.4\n",
       "3   17.2   45.9       69.3    9.3\n",
       "4  151.5   41.3       58.5   18.5\n",
       "5  180.8   10.8       58.4   12.9"
      ]
     },
     "execution_count": 486,
     "metadata": {},
     "output_type": "execute_result"
    }
   ],
   "source": [
    "data.head()"
   ]
  },
  {
   "cell_type": "markdown",
   "id": "ccb023f2",
   "metadata": {},
   "source": [
    "#### Radio columns"
   ]
  },
  {
   "cell_type": "code",
   "execution_count": 487,
   "id": "92e86005",
   "metadata": {},
   "outputs": [
    {
     "data": {
      "text/plain": [
       "array([[37.8],\n",
       "       [39.3],\n",
       "       [45.9],\n",
       "       [41.3],\n",
       "       [10.8]])"
      ]
     },
     "execution_count": 487,
     "metadata": {},
     "output_type": "execute_result"
    }
   ],
   "source": [
    "#iloc[row,columns]\n",
    "x = data.iloc[:,1]\n",
    "x = x.values.reshape(-1,1)\n",
    "x[0:5]"
   ]
  },
  {
   "cell_type": "markdown",
   "id": "a26c8061",
   "metadata": {},
   "source": [
    "#### Sales columns"
   ]
  },
  {
   "cell_type": "code",
   "execution_count": 488,
   "id": "c02d8270",
   "metadata": {},
   "outputs": [
    {
     "data": {
      "text/plain": [
       "array([[22.1],\n",
       "       [10.4],\n",
       "       [ 9.3],\n",
       "       [18.5],\n",
       "       [12.9]])"
      ]
     },
     "execution_count": 488,
     "metadata": {},
     "output_type": "execute_result"
    }
   ],
   "source": [
    "y = data.iloc[:,3]\n",
    "y = y.values.reshape(-1,1)\n",
    "y[0:5]"
   ]
  },
  {
   "cell_type": "code",
   "execution_count": 489,
   "id": "ab9da74c",
   "metadata": {},
   "outputs": [
    {
     "data": {
      "text/html": [
       "<style>#sk-container-id-21 {color: black;background-color: white;}#sk-container-id-21 pre{padding: 0;}#sk-container-id-21 div.sk-toggleable {background-color: white;}#sk-container-id-21 label.sk-toggleable__label {cursor: pointer;display: block;width: 100%;margin-bottom: 0;padding: 0.3em;box-sizing: border-box;text-align: center;}#sk-container-id-21 label.sk-toggleable__label-arrow:before {content: \"▸\";float: left;margin-right: 0.25em;color: #696969;}#sk-container-id-21 label.sk-toggleable__label-arrow:hover:before {color: black;}#sk-container-id-21 div.sk-estimator:hover label.sk-toggleable__label-arrow:before {color: black;}#sk-container-id-21 div.sk-toggleable__content {max-height: 0;max-width: 0;overflow: hidden;text-align: left;background-color: #f0f8ff;}#sk-container-id-21 div.sk-toggleable__content pre {margin: 0.2em;color: black;border-radius: 0.25em;background-color: #f0f8ff;}#sk-container-id-21 input.sk-toggleable__control:checked~div.sk-toggleable__content {max-height: 200px;max-width: 100%;overflow: auto;}#sk-container-id-21 input.sk-toggleable__control:checked~label.sk-toggleable__label-arrow:before {content: \"▾\";}#sk-container-id-21 div.sk-estimator input.sk-toggleable__control:checked~label.sk-toggleable__label {background-color: #d4ebff;}#sk-container-id-21 div.sk-label input.sk-toggleable__control:checked~label.sk-toggleable__label {background-color: #d4ebff;}#sk-container-id-21 input.sk-hidden--visually {border: 0;clip: rect(1px 1px 1px 1px);clip: rect(1px, 1px, 1px, 1px);height: 1px;margin: -1px;overflow: hidden;padding: 0;position: absolute;width: 1px;}#sk-container-id-21 div.sk-estimator {font-family: monospace;background-color: #f0f8ff;border: 1px dotted black;border-radius: 0.25em;box-sizing: border-box;margin-bottom: 0.5em;}#sk-container-id-21 div.sk-estimator:hover {background-color: #d4ebff;}#sk-container-id-21 div.sk-parallel-item::after {content: \"\";width: 100%;border-bottom: 1px solid gray;flex-grow: 1;}#sk-container-id-21 div.sk-label:hover label.sk-toggleable__label {background-color: #d4ebff;}#sk-container-id-21 div.sk-serial::before {content: \"\";position: absolute;border-left: 1px solid gray;box-sizing: border-box;top: 0;bottom: 0;left: 50%;z-index: 0;}#sk-container-id-21 div.sk-serial {display: flex;flex-direction: column;align-items: center;background-color: white;padding-right: 0.2em;padding-left: 0.2em;position: relative;}#sk-container-id-21 div.sk-item {position: relative;z-index: 1;}#sk-container-id-21 div.sk-parallel {display: flex;align-items: stretch;justify-content: center;background-color: white;position: relative;}#sk-container-id-21 div.sk-item::before, #sk-container-id-21 div.sk-parallel-item::before {content: \"\";position: absolute;border-left: 1px solid gray;box-sizing: border-box;top: 0;bottom: 0;left: 50%;z-index: -1;}#sk-container-id-21 div.sk-parallel-item {display: flex;flex-direction: column;z-index: 1;position: relative;background-color: white;}#sk-container-id-21 div.sk-parallel-item:first-child::after {align-self: flex-end;width: 50%;}#sk-container-id-21 div.sk-parallel-item:last-child::after {align-self: flex-start;width: 50%;}#sk-container-id-21 div.sk-parallel-item:only-child::after {width: 0;}#sk-container-id-21 div.sk-dashed-wrapped {border: 1px dashed gray;margin: 0 0.4em 0.5em 0.4em;box-sizing: border-box;padding-bottom: 0.4em;background-color: white;}#sk-container-id-21 div.sk-label label {font-family: monospace;font-weight: bold;display: inline-block;line-height: 1.2em;}#sk-container-id-21 div.sk-label-container {text-align: center;}#sk-container-id-21 div.sk-container {/* jupyter's `normalize.less` sets `[hidden] { display: none; }` but bootstrap.min.css set `[hidden] { display: none !important; }` so we also need the `!important` here to be able to override the default hidden behavior on the sphinx rendered scikit-learn.org. See: https://github.com/scikit-learn/scikit-learn/issues/21755 */display: inline-block !important;position: relative;}#sk-container-id-21 div.sk-text-repr-fallback {display: none;}</style><div id=\"sk-container-id-21\" class=\"sk-top-container\"><div class=\"sk-text-repr-fallback\"><pre>LinearRegression()</pre><b>In a Jupyter environment, please rerun this cell to show the HTML representation or trust the notebook. <br />On GitHub, the HTML representation is unable to render, please try loading this page with nbviewer.org.</b></div><div class=\"sk-container\" hidden><div class=\"sk-item\"><div class=\"sk-estimator sk-toggleable\"><input class=\"sk-toggleable__control sk-hidden--visually\" id=\"sk-estimator-id-21\" type=\"checkbox\" checked><label for=\"sk-estimator-id-21\" class=\"sk-toggleable__label sk-toggleable__label-arrow\">LinearRegression</label><div class=\"sk-toggleable__content\"><pre>LinearRegression()</pre></div></div></div></div></div>"
      ],
      "text/plain": [
       "LinearRegression()"
      ]
     },
     "execution_count": 489,
     "metadata": {},
     "output_type": "execute_result"
    }
   ],
   "source": [
    "#Creating Linear Regression Model\n",
    "model = LinearRegression()\n",
    "model.fit(x,y)"
   ]
  },
  {
   "cell_type": "code",
   "execution_count": 490,
   "id": "bbbe773a",
   "metadata": {},
   "outputs": [
    {
     "data": {
      "text/plain": [
       "array([[16.96597871],\n",
       "       [17.26972238],\n",
       "       [18.60619455],\n",
       "       [17.67471395],\n",
       "       [11.49859256]])"
      ]
     },
     "execution_count": 490,
     "metadata": {},
     "output_type": "execute_result"
    }
   ],
   "source": [
    "y_pred = model.predict(x)\n",
    "y_pred[0:5]"
   ]
  },
  {
   "cell_type": "code",
   "execution_count": 491,
   "id": "8f8f981d",
   "metadata": {},
   "outputs": [
    {
     "data": {
      "text/html": [
       "<div>\n",
       "<style scoped>\n",
       "    .dataframe tbody tr th:only-of-type {\n",
       "        vertical-align: middle;\n",
       "    }\n",
       "\n",
       "    .dataframe tbody tr th {\n",
       "        vertical-align: top;\n",
       "    }\n",
       "\n",
       "    .dataframe thead th {\n",
       "        text-align: right;\n",
       "    }\n",
       "</style>\n",
       "<table border=\"1\" class=\"dataframe\">\n",
       "  <thead>\n",
       "    <tr style=\"text-align: right;\">\n",
       "      <th></th>\n",
       "      <th>TV</th>\n",
       "      <th>radio</th>\n",
       "      <th>newspaper</th>\n",
       "      <th>sales</th>\n",
       "    </tr>\n",
       "  </thead>\n",
       "  <tbody>\n",
       "    <tr>\n",
       "      <th>196</th>\n",
       "      <td>38.2</td>\n",
       "      <td>3.7</td>\n",
       "      <td>13.8</td>\n",
       "      <td>7.6</td>\n",
       "    </tr>\n",
       "    <tr>\n",
       "      <th>197</th>\n",
       "      <td>94.2</td>\n",
       "      <td>4.9</td>\n",
       "      <td>8.1</td>\n",
       "      <td>9.7</td>\n",
       "    </tr>\n",
       "    <tr>\n",
       "      <th>198</th>\n",
       "      <td>177.0</td>\n",
       "      <td>9.3</td>\n",
       "      <td>6.4</td>\n",
       "      <td>12.8</td>\n",
       "    </tr>\n",
       "    <tr>\n",
       "      <th>199</th>\n",
       "      <td>283.6</td>\n",
       "      <td>42.0</td>\n",
       "      <td>66.2</td>\n",
       "      <td>25.5</td>\n",
       "    </tr>\n",
       "    <tr>\n",
       "      <th>200</th>\n",
       "      <td>232.1</td>\n",
       "      <td>8.6</td>\n",
       "      <td>8.7</td>\n",
       "      <td>13.4</td>\n",
       "    </tr>\n",
       "  </tbody>\n",
       "</table>\n",
       "</div>"
      ],
      "text/plain": [
       "        TV  radio  newspaper  sales\n",
       "196   38.2    3.7       13.8    7.6\n",
       "197   94.2    4.9        8.1    9.7\n",
       "198  177.0    9.3        6.4   12.8\n",
       "199  283.6   42.0       66.2   25.5\n",
       "200  232.1    8.6        8.7   13.4"
      ]
     },
     "execution_count": 491,
     "metadata": {},
     "output_type": "execute_result"
    }
   ],
   "source": [
    "data.tail()"
   ]
  },
  {
   "cell_type": "code",
   "execution_count": 492,
   "id": "1dfbdf95",
   "metadata": {},
   "outputs": [
    {
     "data": {
      "image/png": "[encoded data removed]",
      "text/plain": [
       "<Figure size 800x500 with 1 Axes>"
      ]
     },
     "metadata": {},
     "output_type": "display_data"
    }
   ],
   "source": [
    "plt.figure(figsize=(8,5))\n",
    "sns.scatterplot(data=data, x='radio', y='sales', color='black')\n",
    "plt.plot(x, y_pred, color='red')\n",
    "plt.title('Sales v/s Radio Budget')\n",
    "plt.show()\n",
    "plt.close()"
   ]
  },
  {
   "cell_type": "code",
   "execution_count": 493,
   "id": "5792170b",
   "metadata": {},
   "outputs": [
    {
     "name": "stdout",
     "output_type": "stream",
     "text": [
      "Coefficents: \n",
      " [[0.20249578]]\n"
     ]
    }
   ],
   "source": [
    "#Coefficients\n",
    "print('Coefficents: \\n', model.coef_)"
   ]
  },
  {
   "cell_type": "markdown",
   "id": "4fcb103e",
   "metadata": {},
   "source": [
    "### Newspaper Simple Linear Model"
   ]
  },
  {
   "cell_type": "code",
   "execution_count": 494,
   "id": "545ac76f",
   "metadata": {},
   "outputs": [
    {
     "data": {
      "text/html": [
       "<div>\n",
       "<style scoped>\n",
       "    .dataframe tbody tr th:only-of-type {\n",
       "        vertical-align: middle;\n",
       "    }\n",
       "\n",
       "    .dataframe tbody tr th {\n",
       "        vertical-align: top;\n",
       "    }\n",
       "\n",
       "    .dataframe thead th {\n",
       "        text-align: right;\n",
       "    }\n",
       "</style>\n",
       "<table border=\"1\" class=\"dataframe\">\n",
       "  <thead>\n",
       "    <tr style=\"text-align: right;\">\n",
       "      <th></th>\n",
       "      <th>TV</th>\n",
       "      <th>radio</th>\n",
       "      <th>newspaper</th>\n",
       "      <th>sales</th>\n",
       "    </tr>\n",
       "  </thead>\n",
       "  <tbody>\n",
       "    <tr>\n",
       "      <th>1</th>\n",
       "      <td>230.1</td>\n",
       "      <td>37.8</td>\n",
       "      <td>69.2</td>\n",
       "      <td>22.1</td>\n",
       "    </tr>\n",
       "    <tr>\n",
       "      <th>2</th>\n",
       "      <td>44.5</td>\n",
       "      <td>39.3</td>\n",
       "      <td>45.1</td>\n",
       "      <td>10.4</td>\n",
       "    </tr>\n",
       "    <tr>\n",
       "      <th>3</th>\n",
       "      <td>17.2</td>\n",
       "      <td>45.9</td>\n",
       "      <td>69.3</td>\n",
       "      <td>9.3</td>\n",
       "    </tr>\n",
       "    <tr>\n",
       "      <th>4</th>\n",
       "      <td>151.5</td>\n",
       "      <td>41.3</td>\n",
       "      <td>58.5</td>\n",
       "      <td>18.5</td>\n",
       "    </tr>\n",
       "    <tr>\n",
       "      <th>5</th>\n",
       "      <td>180.8</td>\n",
       "      <td>10.8</td>\n",
       "      <td>58.4</td>\n",
       "      <td>12.9</td>\n",
       "    </tr>\n",
       "  </tbody>\n",
       "</table>\n",
       "</div>"
      ],
      "text/plain": [
       "      TV  radio  newspaper  sales\n",
       "1  230.1   37.8       69.2   22.1\n",
       "2   44.5   39.3       45.1   10.4\n",
       "3   17.2   45.9       69.3    9.3\n",
       "4  151.5   41.3       58.5   18.5\n",
       "5  180.8   10.8       58.4   12.9"
      ]
     },
     "execution_count": 494,
     "metadata": {},
     "output_type": "execute_result"
    }
   ],
   "source": [
    "data.head()"
   ]
  },
  {
   "cell_type": "code",
   "execution_count": 495,
   "id": "1765e19b",
   "metadata": {},
   "outputs": [
    {
     "data": {
      "text/plain": [
       "array([[69.2],\n",
       "       [45.1],\n",
       "       [69.3],\n",
       "       [58.5],\n",
       "       [58.4]])"
      ]
     },
     "execution_count": 495,
     "metadata": {},
     "output_type": "execute_result"
    }
   ],
   "source": [
    "x = data.iloc[:,2]\n",
    "x = x.values.reshape(-1,1)\n",
    "x[0:5]"
   ]
  },
  {
   "cell_type": "code",
   "execution_count": 496,
   "id": "d5fdd2b5",
   "metadata": {},
   "outputs": [
    {
     "data": {
      "text/plain": [
       "array([[22.1],\n",
       "       [10.4],\n",
       "       [ 9.3],\n",
       "       [18.5],\n",
       "       [12.9]])"
      ]
     },
     "execution_count": 496,
     "metadata": {},
     "output_type": "execute_result"
    }
   ],
   "source": [
    "y = data.iloc[:,3]\n",
    "y = y.values.reshape(-1,1)\n",
    "y[0:5]"
   ]
  },
  {
   "cell_type": "code",
   "execution_count": 497,
   "id": "df361dd5",
   "metadata": {},
   "outputs": [
    {
     "data": {
      "text/html": [
       "<style>#sk-container-id-22 {color: black;background-color: white;}#sk-container-id-22 pre{padding: 0;}#sk-container-id-22 div.sk-toggleable {background-color: white;}#sk-container-id-22 label.sk-toggleable__label {cursor: pointer;display: block;width: 100%;margin-bottom: 0;padding: 0.3em;box-sizing: border-box;text-align: center;}#sk-container-id-22 label.sk-toggleable__label-arrow:before {content: \"▸\";float: left;margin-right: 0.25em;color: #696969;}#sk-container-id-22 label.sk-toggleable__label-arrow:hover:before {color: black;}#sk-container-id-22 div.sk-estimator:hover label.sk-toggleable__label-arrow:before {color: black;}#sk-container-id-22 div.sk-toggleable__content {max-height: 0;max-width: 0;overflow: hidden;text-align: left;background-color: #f0f8ff;}#sk-container-id-22 div.sk-toggleable__content pre {margin: 0.2em;color: black;border-radius: 0.25em;background-color: #f0f8ff;}#sk-container-id-22 input.sk-toggleable__control:checked~div.sk-toggleable__content {max-height: 200px;max-width: 100%;overflow: auto;}#sk-container-id-22 input.sk-toggleable__control:checked~label.sk-toggleable__label-arrow:before {content: \"▾\";}#sk-container-id-22 div.sk-estimator input.sk-toggleable__control:checked~label.sk-toggleable__label {background-color: #d4ebff;}#sk-container-id-22 div.sk-label input.sk-toggleable__control:checked~label.sk-toggleable__label {background-color: #d4ebff;}#sk-container-id-22 input.sk-hidden--visually {border: 0;clip: rect(1px 1px 1px 1px);clip: rect(1px, 1px, 1px, 1px);height: 1px;margin: -1px;overflow: hidden;padding: 0;position: absolute;width: 1px;}#sk-container-id-22 div.sk-estimator {font-family: monospace;background-color: #f0f8ff;border: 1px dotted black;border-radius: 0.25em;box-sizing: border-box;margin-bottom: 0.5em;}#sk-container-id-22 div.sk-estimator:hover {background-color: #d4ebff;}#sk-container-id-22 div.sk-parallel-item::after {content: \"\";width: 100%;border-bottom: 1px solid gray;flex-grow: 1;}#sk-container-id-22 div.sk-label:hover label.sk-toggleable__label {background-color: #d4ebff;}#sk-container-id-22 div.sk-serial::before {content: \"\";position: absolute;border-left: 1px solid gray;box-sizing: border-box;top: 0;bottom: 0;left: 50%;z-index: 0;}#sk-container-id-22 div.sk-serial {display: flex;flex-direction: column;align-items: center;background-color: white;padding-right: 0.2em;padding-left: 0.2em;position: relative;}#sk-container-id-22 div.sk-item {position: relative;z-index: 1;}#sk-container-id-22 div.sk-parallel {display: flex;align-items: stretch;justify-content: center;background-color: white;position: relative;}#sk-container-id-22 div.sk-item::before, #sk-container-id-22 div.sk-parallel-item::before {content: \"\";position: absolute;border-left: 1px solid gray;box-sizing: border-box;top: 0;bottom: 0;left: 50%;z-index: -1;}#sk-container-id-22 div.sk-parallel-item {display: flex;flex-direction: column;z-index: 1;position: relative;background-color: white;}#sk-container-id-22 div.sk-parallel-item:first-child::after {align-self: flex-end;width: 50%;}#sk-container-id-22 div.sk-parallel-item:last-child::after {align-self: flex-start;width: 50%;}#sk-container-id-22 div.sk-parallel-item:only-child::after {width: 0;}#sk-container-id-22 div.sk-dashed-wrapped {border: 1px dashed gray;margin: 0 0.4em 0.5em 0.4em;box-sizing: border-box;padding-bottom: 0.4em;background-color: white;}#sk-container-id-22 div.sk-label label {font-family: monospace;font-weight: bold;display: inline-block;line-height: 1.2em;}#sk-container-id-22 div.sk-label-container {text-align: center;}#sk-container-id-22 div.sk-container {/* jupyter's `normalize.less` sets `[hidden] { display: none; }` but bootstrap.min.css set `[hidden] { display: none !important; }` so we also need the `!important` here to be able to override the default hidden behavior on the sphinx rendered scikit-learn.org. See: https://github.com/scikit-learn/scikit-learn/issues/21755 */display: inline-block !important;position: relative;}#sk-container-id-22 div.sk-text-repr-fallback {display: none;}</style><div id=\"sk-container-id-22\" class=\"sk-top-container\"><div class=\"sk-text-repr-fallback\"><pre>LinearRegression()</pre><b>In a Jupyter environment, please rerun this cell to show the HTML representation or trust the notebook. <br />On GitHub, the HTML representation is unable to render, please try loading this page with nbviewer.org.</b></div><div class=\"sk-container\" hidden><div class=\"sk-item\"><div class=\"sk-estimator sk-toggleable\"><input class=\"sk-toggleable__control sk-hidden--visually\" id=\"sk-estimator-id-22\" type=\"checkbox\" checked><label for=\"sk-estimator-id-22\" class=\"sk-toggleable__label sk-toggleable__label-arrow\">LinearRegression</label><div class=\"sk-toggleable__content\"><pre>LinearRegression()</pre></div></div></div></div></div>"
      ],
      "text/plain": [
       "LinearRegression()"
      ]
     },
     "execution_count": 497,
     "metadata": {},
     "output_type": "execute_result"
    }
   ],
   "source": [
    "#Creating Linear Regression model\n",
    "model = LinearRegression()\n",
    "#Training the model\n",
    "model.fit(x,y)"
   ]
  },
  {
   "cell_type": "code",
   "execution_count": 498,
   "id": "3024556c",
   "metadata": {},
   "outputs": [
    {
     "data": {
      "text/plain": [
       "array([[16.13616948],\n",
       "       [14.81806581],\n",
       "       [16.14163879],\n",
       "       [15.55095333],\n",
       "       [15.54548402]])"
      ]
     },
     "execution_count": 498,
     "metadata": {},
     "output_type": "execute_result"
    }
   ],
   "source": [
    "#Prediction\n",
    "y_pred = model.predict(x)\n",
    "y_pred[0:5]"
   ]
  },
  {
   "cell_type": "code",
   "execution_count": 499,
   "id": "5967b7ed",
   "metadata": {},
   "outputs": [
    {
     "data": {
      "image/png": "[encoded data removed]",
      "text/plain": [
       "<Figure size 800x500 with 1 Axes>"
      ]
     },
     "metadata": {},
     "output_type": "display_data"
    }
   ],
   "source": [
    "plt.figure(figsize=(8,5))\n",
    "sns.scatterplot(data=data, x='newspaper', y='sales', color='black')\n",
    "plt.plot(x, y_pred, color='red')\n",
    "plt.title('Sales v/s Newspaper budget')\n",
    "plt.xlabel('News paper budget')\n",
    "plt.show()\n",
    "plt.close()"
   ]
  },
  {
   "cell_type": "code",
   "execution_count": 500,
   "id": "4b33e45d",
   "metadata": {},
   "outputs": [
    {
     "name": "stdout",
     "output_type": "stream",
     "text": [
      "Coefficients: \n",
      " [[0.0546931]]\n"
     ]
    }
   ],
   "source": [
    "#The Coefficients\n",
    "print('Coefficients: \\n',model.coef_)"
   ]
  },
  {
   "cell_type": "markdown",
   "id": "99e53b20",
   "metadata": {},
   "source": [
    "#### Multiple Linear Regression "
   ]
  },
  {
   "cell_type": "code",
   "execution_count": 501,
   "id": "bc764fcd",
   "metadata": {},
   "outputs": [
    {
     "data": {
      "text/html": [
       "<div>\n",
       "<style scoped>\n",
       "    .dataframe tbody tr th:only-of-type {\n",
       "        vertical-align: middle;\n",
       "    }\n",
       "\n",
       "    .dataframe tbody tr th {\n",
       "        vertical-align: top;\n",
       "    }\n",
       "\n",
       "    .dataframe thead th {\n",
       "        text-align: right;\n",
       "    }\n",
       "</style>\n",
       "<table border=\"1\" class=\"dataframe\">\n",
       "  <thead>\n",
       "    <tr style=\"text-align: right;\">\n",
       "      <th></th>\n",
       "      <th>TV</th>\n",
       "      <th>radio</th>\n",
       "      <th>newspaper</th>\n",
       "      <th>sales</th>\n",
       "    </tr>\n",
       "  </thead>\n",
       "  <tbody>\n",
       "    <tr>\n",
       "      <th>1</th>\n",
       "      <td>230.1</td>\n",
       "      <td>37.8</td>\n",
       "      <td>69.2</td>\n",
       "      <td>22.1</td>\n",
       "    </tr>\n",
       "    <tr>\n",
       "      <th>2</th>\n",
       "      <td>44.5</td>\n",
       "      <td>39.3</td>\n",
       "      <td>45.1</td>\n",
       "      <td>10.4</td>\n",
       "    </tr>\n",
       "    <tr>\n",
       "      <th>3</th>\n",
       "      <td>17.2</td>\n",
       "      <td>45.9</td>\n",
       "      <td>69.3</td>\n",
       "      <td>9.3</td>\n",
       "    </tr>\n",
       "    <tr>\n",
       "      <th>4</th>\n",
       "      <td>151.5</td>\n",
       "      <td>41.3</td>\n",
       "      <td>58.5</td>\n",
       "      <td>18.5</td>\n",
       "    </tr>\n",
       "    <tr>\n",
       "      <th>5</th>\n",
       "      <td>180.8</td>\n",
       "      <td>10.8</td>\n",
       "      <td>58.4</td>\n",
       "      <td>12.9</td>\n",
       "    </tr>\n",
       "  </tbody>\n",
       "</table>\n",
       "</div>"
      ],
      "text/plain": [
       "      TV  radio  newspaper  sales\n",
       "1  230.1   37.8       69.2   22.1\n",
       "2   44.5   39.3       45.1   10.4\n",
       "3   17.2   45.9       69.3    9.3\n",
       "4  151.5   41.3       58.5   18.5\n",
       "5  180.8   10.8       58.4   12.9"
      ]
     },
     "execution_count": 501,
     "metadata": {},
     "output_type": "execute_result"
    }
   ],
   "source": [
    "data.head()"
   ]
  },
  {
   "cell_type": "code",
   "execution_count": 502,
   "id": "5a16d836",
   "metadata": {},
   "outputs": [
    {
     "data": {
      "text/html": [
       "<div>\n",
       "<style scoped>\n",
       "    .dataframe tbody tr th:only-of-type {\n",
       "        vertical-align: middle;\n",
       "    }\n",
       "\n",
       "    .dataframe tbody tr th {\n",
       "        vertical-align: top;\n",
       "    }\n",
       "\n",
       "    .dataframe thead th {\n",
       "        text-align: right;\n",
       "    }\n",
       "</style>\n",
       "<table border=\"1\" class=\"dataframe\">\n",
       "  <thead>\n",
       "    <tr style=\"text-align: right;\">\n",
       "      <th></th>\n",
       "      <th>TV</th>\n",
       "      <th>radio</th>\n",
       "      <th>newspaper</th>\n",
       "    </tr>\n",
       "  </thead>\n",
       "  <tbody>\n",
       "    <tr>\n",
       "      <th>1</th>\n",
       "      <td>230.1</td>\n",
       "      <td>37.8</td>\n",
       "      <td>69.2</td>\n",
       "    </tr>\n",
       "    <tr>\n",
       "      <th>2</th>\n",
       "      <td>44.5</td>\n",
       "      <td>39.3</td>\n",
       "      <td>45.1</td>\n",
       "    </tr>\n",
       "    <tr>\n",
       "      <th>3</th>\n",
       "      <td>17.2</td>\n",
       "      <td>45.9</td>\n",
       "      <td>69.3</td>\n",
       "    </tr>\n",
       "    <tr>\n",
       "      <th>4</th>\n",
       "      <td>151.5</td>\n",
       "      <td>41.3</td>\n",
       "      <td>58.5</td>\n",
       "    </tr>\n",
       "  </tbody>\n",
       "</table>\n",
       "</div>"
      ],
      "text/plain": [
       "      TV  radio  newspaper\n",
       "1  230.1   37.8       69.2\n",
       "2   44.5   39.3       45.1\n",
       "3   17.2   45.9       69.3\n",
       "4  151.5   41.3       58.5"
      ]
     },
     "execution_count": 502,
     "metadata": {},
     "output_type": "execute_result"
    }
   ],
   "source": [
    "X = data.iloc[:,[0,1,2]]\n",
    "X[0:4]"
   ]
  },
  {
   "cell_type": "code",
   "execution_count": 503,
   "id": "82bfc870",
   "metadata": {},
   "outputs": [
    {
     "data": {
      "text/plain": [
       "array([[230.1,  37.8,  69.2],\n",
       "       [ 44.5,  39.3,  45.1],\n",
       "       [ 17.2,  45.9,  69.3],\n",
       "       [151.5,  41.3,  58.5],\n",
       "       [180.8,  10.8,  58.4]])"
      ]
     },
     "execution_count": 503,
     "metadata": {},
     "output_type": "execute_result"
    }
   ],
   "source": [
    "X = data.iloc[:,[0,1,2]].values\n",
    "X[0:5]"
   ]
  },
  {
   "cell_type": "markdown",
   "id": "c70f3176",
   "metadata": {},
   "source": [
    "#### Assigns values of the first, second, and third columns of the \"data\" DataFrame to a new NumPy array \"X\"."
   ]
  },
  {
   "cell_type": "code",
   "execution_count": 504,
   "id": "ca2765be",
   "metadata": {},
   "outputs": [
    {
     "data": {
      "text/plain": [
       "array([[230.1,  37.8,  69.2],\n",
       "       [ 44.5,  39.3,  45.1],\n",
       "       [ 17.2,  45.9,  69.3],\n",
       "       [151.5,  41.3,  58.5],\n",
       "       [180.8,  10.8,  58.4]])"
      ]
     },
     "execution_count": 504,
     "metadata": {},
     "output_type": "execute_result"
    }
   ],
   "source": [
    "X = X.reshape(-1,3)\n",
    "X[0:5]"
   ]
  },
  {
   "cell_type": "code",
   "execution_count": 505,
   "id": "758529d9",
   "metadata": {},
   "outputs": [
    {
     "data": {
      "text/plain": [
       "array([[22.1],\n",
       "       [10.4],\n",
       "       [ 9.3],\n",
       "       [18.5],\n",
       "       [12.9]])"
      ]
     },
     "execution_count": 505,
     "metadata": {},
     "output_type": "execute_result"
    }
   ],
   "source": [
    "y = data.iloc[:,3]\n",
    "y = y.values.reshape(-1,1)\n",
    "y[0:5]"
   ]
  },
  {
   "cell_type": "code",
   "execution_count": 506,
   "id": "232a5b2a",
   "metadata": {},
   "outputs": [],
   "source": [
    "#Creating linear Regression model\n",
    "model = LinearRegression()"
   ]
  },
  {
   "cell_type": "code",
   "execution_count": 507,
   "id": "05dfe4ba",
   "metadata": {},
   "outputs": [
    {
     "data": {
      "text/html": [
       "<style>#sk-container-id-23 {color: black;background-color: white;}#sk-container-id-23 pre{padding: 0;}#sk-container-id-23 div.sk-toggleable {background-color: white;}#sk-container-id-23 label.sk-toggleable__label {cursor: pointer;display: block;width: 100%;margin-bottom: 0;padding: 0.3em;box-sizing: border-box;text-align: center;}#sk-container-id-23 label.sk-toggleable__label-arrow:before {content: \"▸\";float: left;margin-right: 0.25em;color: #696969;}#sk-container-id-23 label.sk-toggleable__label-arrow:hover:before {color: black;}#sk-container-id-23 div.sk-estimator:hover label.sk-toggleable__label-arrow:before {color: black;}#sk-container-id-23 div.sk-toggleable__content {max-height: 0;max-width: 0;overflow: hidden;text-align: left;background-color: #f0f8ff;}#sk-container-id-23 div.sk-toggleable__content pre {margin: 0.2em;color: black;border-radius: 0.25em;background-color: #f0f8ff;}#sk-container-id-23 input.sk-toggleable__control:checked~div.sk-toggleable__content {max-height: 200px;max-width: 100%;overflow: auto;}#sk-container-id-23 input.sk-toggleable__control:checked~label.sk-toggleable__label-arrow:before {content: \"▾\";}#sk-container-id-23 div.sk-estimator input.sk-toggleable__control:checked~label.sk-toggleable__label {background-color: #d4ebff;}#sk-container-id-23 div.sk-label input.sk-toggleable__control:checked~label.sk-toggleable__label {background-color: #d4ebff;}#sk-container-id-23 input.sk-hidden--visually {border: 0;clip: rect(1px 1px 1px 1px);clip: rect(1px, 1px, 1px, 1px);height: 1px;margin: -1px;overflow: hidden;padding: 0;position: absolute;width: 1px;}#sk-container-id-23 div.sk-estimator {font-family: monospace;background-color: #f0f8ff;border: 1px dotted black;border-radius: 0.25em;box-sizing: border-box;margin-bottom: 0.5em;}#sk-container-id-23 div.sk-estimator:hover {background-color: #d4ebff;}#sk-container-id-23 div.sk-parallel-item::after {content: \"\";width: 100%;border-bottom: 1px solid gray;flex-grow: 1;}#sk-container-id-23 div.sk-label:hover label.sk-toggleable__label {background-color: #d4ebff;}#sk-container-id-23 div.sk-serial::before {content: \"\";position: absolute;border-left: 1px solid gray;box-sizing: border-box;top: 0;bottom: 0;left: 50%;z-index: 0;}#sk-container-id-23 div.sk-serial {display: flex;flex-direction: column;align-items: center;background-color: white;padding-right: 0.2em;padding-left: 0.2em;position: relative;}#sk-container-id-23 div.sk-item {position: relative;z-index: 1;}#sk-container-id-23 div.sk-parallel {display: flex;align-items: stretch;justify-content: center;background-color: white;position: relative;}#sk-container-id-23 div.sk-item::before, #sk-container-id-23 div.sk-parallel-item::before {content: \"\";position: absolute;border-left: 1px solid gray;box-sizing: border-box;top: 0;bottom: 0;left: 50%;z-index: -1;}#sk-container-id-23 div.sk-parallel-item {display: flex;flex-direction: column;z-index: 1;position: relative;background-color: white;}#sk-container-id-23 div.sk-parallel-item:first-child::after {align-self: flex-end;width: 50%;}#sk-container-id-23 div.sk-parallel-item:last-child::after {align-self: flex-start;width: 50%;}#sk-container-id-23 div.sk-parallel-item:only-child::after {width: 0;}#sk-container-id-23 div.sk-dashed-wrapped {border: 1px dashed gray;margin: 0 0.4em 0.5em 0.4em;box-sizing: border-box;padding-bottom: 0.4em;background-color: white;}#sk-container-id-23 div.sk-label label {font-family: monospace;font-weight: bold;display: inline-block;line-height: 1.2em;}#sk-container-id-23 div.sk-label-container {text-align: center;}#sk-container-id-23 div.sk-container {/* jupyter's `normalize.less` sets `[hidden] { display: none; }` but bootstrap.min.css set `[hidden] { display: none !important; }` so we also need the `!important` here to be able to override the default hidden behavior on the sphinx rendered scikit-learn.org. See: https://github.com/scikit-learn/scikit-learn/issues/21755 */display: inline-block !important;position: relative;}#sk-container-id-23 div.sk-text-repr-fallback {display: none;}</style><div id=\"sk-container-id-23\" class=\"sk-top-container\"><div class=\"sk-text-repr-fallback\"><pre>LinearRegression()</pre><b>In a Jupyter environment, please rerun this cell to show the HTML representation or trust the notebook. <br />On GitHub, the HTML representation is unable to render, please try loading this page with nbviewer.org.</b></div><div class=\"sk-container\" hidden><div class=\"sk-item\"><div class=\"sk-estimator sk-toggleable\"><input class=\"sk-toggleable__control sk-hidden--visually\" id=\"sk-estimator-id-23\" type=\"checkbox\" checked><label for=\"sk-estimator-id-23\" class=\"sk-toggleable__label sk-toggleable__label-arrow\">LinearRegression</label><div class=\"sk-toggleable__content\"><pre>LinearRegression()</pre></div></div></div></div></div>"
      ],
      "text/plain": [
       "LinearRegression()"
      ]
     },
     "execution_count": 507,
     "metadata": {},
     "output_type": "execute_result"
    }
   ],
   "source": [
    "#Training model\n",
    "model.fit(X,y)"
   ]
  },
  {
   "cell_type": "code",
   "execution_count": 508,
   "id": "12f65942",
   "metadata": {},
   "outputs": [
    {
     "name": "stdout",
     "output_type": "stream",
     "text": [
      "Intercept: \n",
      " [2.93888937]\n",
      "Coefficients: \n",
      " [[ 0.04576465  0.18853002 -0.00103749]]\n"
     ]
    }
   ],
   "source": [
    "print('Intercept: \\n', model.intercept_)\n",
    "print('Coefficients: \\n', model.coef_)"
   ]
  },
  {
   "cell_type": "code",
   "execution_count": 561,
   "id": "018bf7fb",
   "metadata": {},
   "outputs": [
    {
     "data": {
      "text/html": [
       "<div>\n",
       "<style scoped>\n",
       "    .dataframe tbody tr th:only-of-type {\n",
       "        vertical-align: middle;\n",
       "    }\n",
       "\n",
       "    .dataframe tbody tr th {\n",
       "        vertical-align: top;\n",
       "    }\n",
       "\n",
       "    .dataframe thead th {\n",
       "        text-align: right;\n",
       "    }\n",
       "</style>\n",
       "<table border=\"1\" class=\"dataframe\">\n",
       "  <thead>\n",
       "    <tr style=\"text-align: right;\">\n",
       "      <th></th>\n",
       "      <th>TV</th>\n",
       "      <th>radio</th>\n",
       "      <th>newspaper</th>\n",
       "      <th>sales</th>\n",
       "    </tr>\n",
       "  </thead>\n",
       "  <tbody>\n",
       "    <tr>\n",
       "      <th>1</th>\n",
       "      <td>230.1</td>\n",
       "      <td>37.8</td>\n",
       "      <td>69.2</td>\n",
       "      <td>22.1</td>\n",
       "    </tr>\n",
       "    <tr>\n",
       "      <th>2</th>\n",
       "      <td>44.5</td>\n",
       "      <td>39.3</td>\n",
       "      <td>45.1</td>\n",
       "      <td>10.4</td>\n",
       "    </tr>\n",
       "    <tr>\n",
       "      <th>3</th>\n",
       "      <td>17.2</td>\n",
       "      <td>45.9</td>\n",
       "      <td>69.3</td>\n",
       "      <td>9.3</td>\n",
       "    </tr>\n",
       "    <tr>\n",
       "      <th>4</th>\n",
       "      <td>151.5</td>\n",
       "      <td>41.3</td>\n",
       "      <td>58.5</td>\n",
       "      <td>18.5</td>\n",
       "    </tr>\n",
       "    <tr>\n",
       "      <th>5</th>\n",
       "      <td>180.8</td>\n",
       "      <td>10.8</td>\n",
       "      <td>58.4</td>\n",
       "      <td>12.9</td>\n",
       "    </tr>\n",
       "  </tbody>\n",
       "</table>\n",
       "</div>"
      ],
      "text/plain": [
       "      TV  radio  newspaper  sales\n",
       "1  230.1   37.8       69.2   22.1\n",
       "2   44.5   39.3       45.1   10.4\n",
       "3   17.2   45.9       69.3    9.3\n",
       "4  151.5   41.3       58.5   18.5\n",
       "5  180.8   10.8       58.4   12.9"
      ]
     },
     "execution_count": 561,
     "metadata": {},
     "output_type": "execute_result"
    }
   ],
   "source": [
    "data = pd.read_csv('Advertising.csv', index_col=0)\n",
    "data.head()"
   ]
  },
  {
   "cell_type": "markdown",
   "id": "c7e1d9c3",
   "metadata": {},
   "source": [
    "#### Training and Test Samples"
   ]
  },
  {
   "cell_type": "markdown",
   "id": "6e918724",
   "metadata": {},
   "source": [
    "1. Imports the train_test_split function from the sklearn.model_selection module.\n",
    "\n",
    "2. Splits the data into training and testing sets using the train_test_split function. The test data size is set to 25% with test_size=0.25.\n",
    "\n",
    "3. Prints the shapes of the training and testing data.\n",
    "\n",
    "4. Fits a linear regression model to the training data using the fit method of the LinearRegression class.\n",
    "\n",
    "5. Makes predictions on the test data using the predict method of the LinearRegression model.\n",
    "\n",
    "6. Calculates the error between the actual test values and the predictions using y_test - predictions.\n",
    "\n",
    "7. Plots the test data and the error bars using the errorbar function from the matplotlib library."
   ]
  },
  {
   "cell_type": "code",
   "execution_count": 562,
   "id": "ad4cbc2b",
   "metadata": {},
   "outputs": [],
   "source": [
    "from sklearn.model_selection import train_test_split"
   ]
  },
  {
   "cell_type": "markdown",
   "id": "7034f5b6",
   "metadata": {},
   "source": [
    "The line X_train, X_test, y_train, y_test = train_test_split(X,y, test_size = 0.25) is splitting the data into training and testing sets.\n",
    "\n",
    "train_test_split is a function from the model_selection module of scikit-learn library which is used to split the input data into two parts, training data and testing data.\n",
    "\n",
    "Here, X and y are the features and target variables respectively. The function train_test_split splits the data into two parts, with test_size=0.25 meaning that 25% of the data will be used for testing and the remaining 75% will be used for training. The split data is stored in four variables: X_train, X_test, y_train, and y_test.\n",
    "\n",
    "X_train and y_train will be used to train a machine learning model, while X_test and y_test will be used to evaluate the performance of the model. This split is useful to evaluate the model's performance on unseen data and prevent overfitting."
   ]
  },
  {
   "cell_type": "code",
   "execution_count": 563,
   "id": "f071d366",
   "metadata": {},
   "outputs": [],
   "source": [
    "X_train, X_test, y_train, y_test = train_test_split(X,y, test_size = 0.25)"
   ]
  },
  {
   "cell_type": "code",
   "execution_count": 564,
   "id": "9120de9b",
   "metadata": {},
   "outputs": [
    {
     "data": {
      "text/plain": [
       "(200, 4)"
      ]
     },
     "execution_count": 564,
     "metadata": {},
     "output_type": "execute_result"
    }
   ],
   "source": [
    "data.shape"
   ]
  },
  {
   "cell_type": "markdown",
   "id": "24fa357d",
   "metadata": {},
   "source": [
    "#### Using test size 0.25 in our data of 200 items into a training set of 150 observations and three columns, and as test set of 50 observations.\n"
   ]
  },
  {
   "cell_type": "code",
   "execution_count": 565,
   "id": "7a65c92e",
   "metadata": {},
   "outputs": [
    {
     "name": "stdout",
     "output_type": "stream",
     "text": [
      "Training data: (150, 3) (150, 1)\n"
     ]
    }
   ],
   "source": [
    "print('Training data:', X_train.shape, y_train.shape)"
   ]
  },
  {
   "cell_type": "code",
   "execution_count": 566,
   "id": "9992c63b",
   "metadata": {},
   "outputs": [
    {
     "name": "stdout",
     "output_type": "stream",
     "text": [
      "Test data: (50, 3) (50, 1)\n"
     ]
    }
   ],
   "source": [
    "print('Test data:', X_test.shape, y_test.shape)"
   ]
  },
  {
   "cell_type": "markdown",
   "id": "95124837",
   "metadata": {},
   "source": [
    "Yes, by default train_test_split splits the data randomly. The function randomly selects observations from the input data X and y and assigns them to either the training set (X_train, y_train) or the testing set (X_test, y_test) based on the specified test size (test_size = 0.25 in this case). This helps to ensure that the training and testing sets are representative of the overall data and reduces the risk of overfitting or underfitting the model."
   ]
  },
  {
   "cell_type": "markdown",
   "id": "0f28a453",
   "metadata": {},
   "source": [
    "#### Choosing data randomly has several advantages:\n",
    "\n",
    "Generalization: By randomly splitting the data into training and testing sets, the model is trained on a diverse set of examples and can learn to generalize to new, unseen examples.\n",
    "\n",
    "Reducing Bias: Randomly selecting observations helps to ensure that both the training and testing sets are representative of the overall data and reduces the risk of overfitting the model to a specific subset of the data.\n",
    "\n",
    "Cross-Validation: In cross-validation, the data is divided into multiple folds and each fold is used as a testing set once. By randomly selecting the folds, the model can be trained and evaluated multiple times on different subsets of the data, providing a more robust evaluation of its performance.\n",
    "\n",
    "Therefore, random sampling of data is a widely used method in machine learning to evaluate the performance of models and to ensure their generalization to new, unseen data."
   ]
  },
  {
   "cell_type": "markdown",
   "id": "67675620",
   "metadata": {},
   "source": [
    "#### Reading pattern, there is no pattern cuz data is selected randomly"
   ]
  },
  {
   "cell_type": "code",
   "execution_count": 567,
   "id": "666f7deb",
   "metadata": {
    "scrolled": true
   },
   "outputs": [
    {
     "data": {
      "text/plain": [
       "array([[177.177,  29.106,  53.284],\n",
       "       [ 34.265,  30.261,  34.727]])"
      ]
     },
     "execution_count": 567,
     "metadata": {},
     "output_type": "execute_result"
    }
   ],
   "source": [
    "X[0:2]"
   ]
  },
  {
   "cell_type": "code",
   "execution_count": 568,
   "id": "4209d5e2",
   "metadata": {},
   "outputs": [
    {
     "data": {
      "text/plain": [
       "array([[ 84.546,  36.806,  39.578],\n",
       "       [165.319,  18.48 ,   3.08 ]])"
      ]
     },
     "execution_count": 568,
     "metadata": {},
     "output_type": "execute_result"
    }
   ],
   "source": [
    "X_train[0:2]"
   ]
  },
  {
   "cell_type": "code",
   "execution_count": 569,
   "id": "3f03723a",
   "metadata": {},
   "outputs": [
    {
     "data": {
      "text/plain": [
       "array([[150.458,  36.729,  40.733],\n",
       "       [  6.699,  37.653,  57.75 ]])"
      ]
     },
     "execution_count": 569,
     "metadata": {},
     "output_type": "execute_result"
    }
   ],
   "source": [
    "X_test[0:2]"
   ]
  },
  {
   "cell_type": "code",
   "execution_count": 570,
   "id": "c51a4772",
   "metadata": {},
   "outputs": [
    {
     "data": {
      "text/plain": [
       "array([[22.1],\n",
       "       [10.4]])"
      ]
     },
     "execution_count": 570,
     "metadata": {},
     "output_type": "execute_result"
    }
   ],
   "source": [
    "y[0:2]"
   ]
  },
  {
   "cell_type": "code",
   "execution_count": 571,
   "id": "eff366d9",
   "metadata": {},
   "outputs": [
    {
     "data": {
      "text/plain": [
       "array([[22.4],\n",
       "       [ 7.2]])"
      ]
     },
     "execution_count": 571,
     "metadata": {},
     "output_type": "execute_result"
    }
   ],
   "source": [
    "y_test[0:2]"
   ]
  },
  {
   "cell_type": "code",
   "execution_count": 572,
   "id": "eff7410f",
   "metadata": {},
   "outputs": [
    {
     "data": {
      "text/plain": [
       "array([[16.7],\n",
       "       [17.4]])"
      ]
     },
     "execution_count": 572,
     "metadata": {},
     "output_type": "execute_result"
    }
   ],
   "source": [
    "y_train[0:2]"
   ]
  },
  {
   "cell_type": "markdown",
   "id": "7887c110",
   "metadata": {},
   "source": [
    "### Fit the Model on the training data:"
   ]
  },
  {
   "cell_type": "markdown",
   "id": "1b996d48",
   "metadata": {},
   "source": [
    "This is data look like after train_test_split splits the data into two parts, with test_size=0.25 meaning that 25% of the data will be used for testing and the remaining 75% will be used for training. The split data is stored in four variables: X_train, X_test, y_train, and y_test."
   ]
  },
  {
   "cell_type": "code",
   "execution_count": 573,
   "id": "de15619a",
   "metadata": {},
   "outputs": [
    {
     "name": "stdout",
     "output_type": "stream",
     "text": [
      "Training data: (150, 3) (150, 1)\n",
      "Test data: (50, 3) (50, 1)\n"
     ]
    }
   ],
   "source": [
    "print('Training data:', X_train.shape, y_train.shape)\n",
    "print('Test data:', X_test.shape, y_test.shape)"
   ]
  },
  {
   "cell_type": "code",
   "execution_count": 574,
   "id": "1072eebd",
   "metadata": {},
   "outputs": [
    {
     "data": {
      "text/html": [
       "<div>\n",
       "<style scoped>\n",
       "    .dataframe tbody tr th:only-of-type {\n",
       "        vertical-align: middle;\n",
       "    }\n",
       "\n",
       "    .dataframe tbody tr th {\n",
       "        vertical-align: top;\n",
       "    }\n",
       "\n",
       "    .dataframe thead th {\n",
       "        text-align: right;\n",
       "    }\n",
       "</style>\n",
       "<table border=\"1\" class=\"dataframe\">\n",
       "  <thead>\n",
       "    <tr style=\"text-align: right;\">\n",
       "      <th></th>\n",
       "      <th>TV</th>\n",
       "      <th>radio</th>\n",
       "      <th>newspaper</th>\n",
       "      <th>sales</th>\n",
       "    </tr>\n",
       "  </thead>\n",
       "  <tbody>\n",
       "    <tr>\n",
       "      <th>1</th>\n",
       "      <td>230.1</td>\n",
       "      <td>37.8</td>\n",
       "      <td>69.2</td>\n",
       "      <td>22.1</td>\n",
       "    </tr>\n",
       "    <tr>\n",
       "      <th>2</th>\n",
       "      <td>44.5</td>\n",
       "      <td>39.3</td>\n",
       "      <td>45.1</td>\n",
       "      <td>10.4</td>\n",
       "    </tr>\n",
       "    <tr>\n",
       "      <th>3</th>\n",
       "      <td>17.2</td>\n",
       "      <td>45.9</td>\n",
       "      <td>69.3</td>\n",
       "      <td>9.3</td>\n",
       "    </tr>\n",
       "    <tr>\n",
       "      <th>4</th>\n",
       "      <td>151.5</td>\n",
       "      <td>41.3</td>\n",
       "      <td>58.5</td>\n",
       "      <td>18.5</td>\n",
       "    </tr>\n",
       "    <tr>\n",
       "      <th>5</th>\n",
       "      <td>180.8</td>\n",
       "      <td>10.8</td>\n",
       "      <td>58.4</td>\n",
       "      <td>12.9</td>\n",
       "    </tr>\n",
       "  </tbody>\n",
       "</table>\n",
       "</div>"
      ],
      "text/plain": [
       "      TV  radio  newspaper  sales\n",
       "1  230.1   37.8       69.2   22.1\n",
       "2   44.5   39.3       45.1   10.4\n",
       "3   17.2   45.9       69.3    9.3\n",
       "4  151.5   41.3       58.5   18.5\n",
       "5  180.8   10.8       58.4   12.9"
      ]
     },
     "execution_count": 574,
     "metadata": {},
     "output_type": "execute_result"
    }
   ],
   "source": [
    "data.head()"
   ]
  },
  {
   "cell_type": "code",
   "execution_count": 575,
   "id": "6db25448",
   "metadata": {},
   "outputs": [
    {
     "data": {
      "text/plain": [
       "array([[ 84.546,  36.806,  39.578],\n",
       "       [165.319,  18.48 ,   3.08 ],\n",
       "       [177.177,  29.106,  53.284],\n",
       "       [171.248,   2.618,  10.087],\n",
       "       [ 20.636,  25.41 ,  14.861]])"
      ]
     },
     "execution_count": 575,
     "metadata": {},
     "output_type": "execute_result"
    }
   ],
   "source": [
    "X_train[0:5]"
   ]
  },
  {
   "cell_type": "code",
   "execution_count": 576,
   "id": "2011de31",
   "metadata": {},
   "outputs": [
    {
     "data": {
      "text/plain": [
       "array([[150.458,  36.729,  40.733],\n",
       "       [  6.699,  37.653,  57.75 ],\n",
       "       [ 58.135,   8.316,   4.62 ],\n",
       "       [135.289,  11.858,   1.848],\n",
       "       [ 15.092,  15.477,  13.09 ]])"
      ]
     },
     "execution_count": 576,
     "metadata": {},
     "output_type": "execute_result"
    }
   ],
   "source": [
    "X_test[0:5]"
   ]
  },
  {
   "cell_type": "code",
   "execution_count": 577,
   "id": "e0c83036",
   "metadata": {},
   "outputs": [
    {
     "data": {
      "text/plain": [
       "array([[16.7],\n",
       "       [17.4],\n",
       "       [22.1],\n",
       "       [11.5],\n",
       "       [ 8.8]])"
      ]
     },
     "execution_count": 577,
     "metadata": {},
     "output_type": "execute_result"
    }
   ],
   "source": [
    "y_train[0:5]"
   ]
  },
  {
   "cell_type": "code",
   "execution_count": 578,
   "id": "cf2a9faf",
   "metadata": {},
   "outputs": [
    {
     "data": {
      "text/plain": [
       "array([[22.4],\n",
       "       [ 7.2],\n",
       "       [ 9.9],\n",
       "       [14.1],\n",
       "       [ 7.6]])"
      ]
     },
     "execution_count": 578,
     "metadata": {},
     "output_type": "execute_result"
    }
   ],
   "source": [
    "y_test[0:5]"
   ]
  },
  {
   "cell_type": "code",
   "execution_count": 579,
   "id": "c992acd2",
   "metadata": {},
   "outputs": [],
   "source": [
    "# Fit Model\n",
    "model = LinearRegression()\n",
    "model.fit(X_train, y_train)\n",
    "predictions = model.predict(X_test)"
   ]
  },
  {
   "cell_type": "code",
   "execution_count": 580,
   "id": "7c519aee",
   "metadata": {},
   "outputs": [
    {
     "data": {
      "text/plain": [
       "array([[20.75846693],\n",
       "       [11.99748162],\n",
       "       [ 8.45625429],\n",
       "       [14.08789961],\n",
       "       [ 7.4336048 ]])"
      ]
     },
     "execution_count": 580,
     "metadata": {},
     "output_type": "execute_result"
    }
   ],
   "source": [
    "predictions[0:5]"
   ]
  },
  {
   "cell_type": "markdown",
   "id": "ed91c139",
   "metadata": {},
   "source": [
    "### Plot the errors"
   ]
  },
  {
   "cell_type": "markdown",
   "id": "b25ad571",
   "metadata": {},
   "source": [
    "#### yerr refers to the error in the y-axis values in a plot. It represents the uncertainty or deviation from the actual value of the y-axis. The yerr value is typically used to create error bars in the plot, showing the uncertainty or variability of the y-axis data."
   ]
  },
  {
   "cell_type": "code",
   "execution_count": 587,
   "id": "d2bbbfb6",
   "metadata": {},
   "outputs": [
    {
     "data": {
      "text/plain": [
       "array([ 0.37559957, -3.0268553 ,  0.13179317,  0.26994243, -0.22113766,\n",
       "       -0.88838466, -0.93019791,  1.95206024, -1.39749058, -0.03445202,\n",
       "       -2.37147291,  1.48780705,  0.86136056, -2.21331068,  1.76577615,\n",
       "        1.93365939, -1.04206251, -0.19406528, -3.61549718,  1.46612696,\n",
       "        2.40144614, -1.31022932,  0.25806031,  1.74409865,  0.96190512,\n",
       "        0.64170666,  0.18037058, -1.48168151, -0.48093585,  0.85261851,\n",
       "        1.51292108,  0.19804225, -2.70912136,  0.04950375, -0.85664657,\n",
       "        0.15472949, -0.78477408,  2.18295714,  0.28455457, -1.42225296,\n",
       "        2.33804869,  1.36330198,  0.232858  ,  0.96683243,  0.06626948,\n",
       "       -3.07239391,  1.15599715,  0.25816117,  0.58840789,  1.53519824])"
      ]
     },
     "execution_count": 587,
     "metadata": {},
     "output_type": "execute_result"
    }
   ],
   "source": [
    "yerr=(y_test-predictions)\n",
    "yerr"
   ]
  },
  {
   "cell_type": "markdown",
   "id": "c220464c",
   "metadata": {},
   "source": [
    "#### 'yerr' must not contain negative values\" means that one or more values in the yerr parameter passed to plt.errorbar is negative, which is not allowed in this function.\n",
    "\n",
    "In this case, the yerr parameter represents the vertical error bars that are plotted around the data points. Negative values do not make sense in this context and are therefore not allowed.\n",
    "\n",
    "you need to make sure that all values in the yerr parameter are non-negative. One approach to achieve this is to use the absolute value of yerr, like this:"
   ]
  },
  {
   "cell_type": "markdown",
   "id": "086700d4",
   "metadata": {},
   "source": [
    "#### 'x' and 'y' must have the same size\" means that the x and y arrays passed to the plt.errorbar function are not of the same length. This is not allowed in plt.errorbar because the number of x values must match the number of y values in order to plot the data correctly.\n",
    "\n",
    "make sure that the range(1,52) and y_test arrays have the same number of elements. If the number of elements in y_test is n, then range(1,52) should be range(1,n+1)."
   ]
  },
  {
   "cell_type": "code",
   "execution_count": 602,
   "id": "01c90608",
   "metadata": {},
   "outputs": [
    {
     "data": {
      "image/png": "[encoded data removed]",
      "text/plain": [
       "<Figure size 640x480 with 1 Axes>"
      ]
     },
     "metadata": {},
     "output_type": "display_data"
    }
   ],
   "source": [
    "yerr = np.abs(y_test - predictions)\n",
    "plt.errorbar(range(1,len(y_test)+1), y_test, yerr=yerr, fmt='.k', ecolor='red')\n",
    "plt.xlabel(\"Data Point Index\")\n",
    "plt.ylabel(\"Y Test Value\")\n",
    "plt.show()\n",
    "plt.close()"
   ]
  },
  {
   "cell_type": "code",
   "execution_count": 603,
   "id": "d3e45c8e",
   "metadata": {
    "scrolled": true
   },
   "outputs": [
    {
     "name": "stdout",
     "output_type": "stream",
     "text": [
      "Score: 0.9188705937003876\n"
     ]
    }
   ],
   "source": [
    "print('Score:', model.score(X_test, y_test))"
   ]
  },
  {
   "cell_type": "markdown",
   "id": "7975ad29",
   "metadata": {},
   "source": [
    "#### This score is quite close to 1, which suggests that our model fits our observations quite well."
   ]
  }
 ],
 "metadata": {
  "kernelspec": {
   "display_name": "Python 3 (ipykernel)",
   "language": "python",
   "name": "python3"
  },
  "language_info": {
   "codemirror_mode": {
    "name": "ipython",
    "version": 3
   },
   "file_extension": ".py",
   "mimetype": "text/x-python",
   "name": "python",
   "nbconvert_exporter": "python",
   "pygments_lexer": "ipython3",
   "version": "3.10.9"
  }
 },
 "nbformat": 4,
 "nbformat_minor": 5
}
