{
  "nbformat": 4,
  "nbformat_minor": 0,
  "metadata": {
    "colab": {
      "provenance": [],
      "authorship_tag": "ABX9TyPLzwcirByIJ/lOIvqBiAAh",
      "include_colab_link": true
    },
    "kernelspec": {
      "name": "python3",
      "display_name": "Python 3"
    },
    "language_info": {
      "name": "python"
    }
  },
  "cells": [
    {
      "cell_type": "markdown",
      "metadata": {
        "id": "view-in-github",
        "colab_type": "text"
      },
      "source": [
        "<a href=\"https://colab.research.google.com/github/AnalyticalHarry/FutureAndOption/blob/main/VOLATILITY_%26_GREEKS_NVIDIA_OPTION_(14_JUNE_EXPIRATION).ipynb\" target=\"_parent\"><img src=\"https://colab.research.google.com/assets/colab-badge.svg\" alt=\"Open In Colab\"/></a>"
      ]
    },
    {
      "cell_type": "markdown",
      "source": [
        "# **VOLATILITY & GREEKS: NVIDIA OPTION (14 JUNE EXPIRATION)**"
      ],
      "metadata": {
        "id": "urtUaIUi3uEr"
      }
    },
    {
      "cell_type": "markdown",
      "source": [
        "### **Hemant Thapa**"
      ],
      "metadata": {
        "id": "0PETMpKR30s6"
      }
    },
    {
      "cell_type": "code",
      "execution_count": 1,
      "metadata": {
        "id": "Xm44USpnYSJd"
      },
      "outputs": [],
      "source": [
        "#loading library\n",
        "import math\n",
        "import pandas as pd\n",
        "import numpy as np\n",
        "import seaborn as sns\n",
        "import matplotlib.pyplot as plt\n",
        "\n",
        "from scipy.stats import norm"
      ]
    },
    {
      "cell_type": "code",
      "source": [
        "# loading 14 June Expiration spread for Nvidia\n",
        "df = pd.read_csv('/content/nvda-volatility-greeks-exp-2024-06-14.csv')"
      ],
      "metadata": {
        "id": "-2J_3fxwYcY8"
      },
      "execution_count": 2,
      "outputs": []
    },
    {
      "cell_type": "code",
      "source": [
        "df[:10]"
      ],
      "metadata": {
        "colab": {
          "base_uri": "https://localhost:8080/",
          "height": 363
        },
        "id": "ty0Jn3iS9qRi",
        "outputId": "d07ca0a0-811f-44f2-f52e-a7919b8db4a5"
      },
      "execution_count": 3,
      "outputs": [
        {
          "output_type": "execute_result",
          "data": {
            "text/plain": [
              "  Strike    Last  Theor.       IV    Delta    Gamma    Theta     Vega  \\\n",
              "0    260  937.29  950.90  543.85%  0.99467  0.00002 -1.11190  0.02373   \n",
              "1    280  932.35  930.75  511.25%  0.99477  0.00002 -1.03336  0.02333   \n",
              "2    290  922.40  920.75  498.94%  0.99465  0.00002 -1.03007  0.02380   \n",
              "3    300  904.55  910.75  487.08%  0.99454  0.00002 -1.02667  0.02426   \n",
              "4    310    0.00  900.85  479.60%  0.99416  0.00002 -1.07182  0.02573   \n",
              "5    320  755.09  890.85  468.47%  0.99404  0.00002 -1.06823  0.02621   \n",
              "6    330  874.95  880.80  455.81%  0.99405  0.00002 -1.04028  0.02617   \n",
              "7    340    0.00  870.90  449.10%  0.99365  0.00003 -1.08486  0.02771   \n",
              "8    350  838.62  860.60  427.65%  0.99439  0.00002 -0.93367  0.02481   \n",
              "9    360  840.00  850.75  423.75%  0.99383  0.00003 -1.00420  0.02700   \n",
              "\n",
              "       Rho Volume Open Int  Vol/OI  Type  Last Trade  Avg IV  \n",
              "0  0.04135      5        2    2.50  Call  06/07/2024  57.49%  \n",
              "1  0.04468      5        0    0.00  Call  06/07/2024  57.49%  \n",
              "2  0.04630      5        0    0.00  Call  06/07/2024  57.49%  \n",
              "3  0.04792      2        2    1.00  Call  06/07/2024  57.49%  \n",
              "4  0.04948      0        0    0.00  Call         NaN  57.49%  \n",
              "5  0.05109      0        1    0.00  Call    05/31/24  57.49%  \n",
              "6  0.05275      1       20    0.05  Call  06/07/2024  57.49%  \n",
              "7  0.05430      0        0    0.00  Call         NaN  57.49%  \n",
              "8  0.05614      1        5    0.20  Call  06/07/2024  57.49%  \n",
              "9  0.05765      0        0    0.00  Call  06/05/2024  57.49%  "
            ],
            "text/html": [
              "\n",
              "  <div id=\"df-907ffe94-fcb4-4aa4-ac92-4e59a4f9dd54\" class=\"colab-df-container\">\n",
              "    <div>\n",
              "<style scoped>\n",
              "    .dataframe tbody tr th:only-of-type {\n",
              "        vertical-align: middle;\n",
              "    }\n",
              "\n",
              "    .dataframe tbody tr th {\n",
              "        vertical-align: top;\n",
              "    }\n",
              "\n",
              "    .dataframe thead th {\n",
              "        text-align: right;\n",
              "    }\n",
              "</style>\n",
              "<table border=\"1\" class=\"dataframe\">\n",
              "  <thead>\n",
              "    <tr style=\"text-align: right;\">\n",
              "      <th></th>\n",
              "      <th>Strike</th>\n",
              "      <th>Last</th>\n",
              "      <th>Theor.</th>\n",
              "      <th>IV</th>\n",
              "      <th>Delta</th>\n",
              "      <th>Gamma</th>\n",
              "      <th>Theta</th>\n",
              "      <th>Vega</th>\n",
              "      <th>Rho</th>\n",
              "      <th>Volume</th>\n",
              "      <th>Open Int</th>\n",
              "      <th>Vol/OI</th>\n",
              "      <th>Type</th>\n",
              "      <th>Last Trade</th>\n",
              "      <th>Avg IV</th>\n",
              "    </tr>\n",
              "  </thead>\n",
              "  <tbody>\n",
              "    <tr>\n",
              "      <th>0</th>\n",
              "      <td>260</td>\n",
              "      <td>937.29</td>\n",
              "      <td>950.90</td>\n",
              "      <td>543.85%</td>\n",
              "      <td>0.99467</td>\n",
              "      <td>0.00002</td>\n",
              "      <td>-1.11190</td>\n",
              "      <td>0.02373</td>\n",
              "      <td>0.04135</td>\n",
              "      <td>5</td>\n",
              "      <td>2</td>\n",
              "      <td>2.50</td>\n",
              "      <td>Call</td>\n",
              "      <td>06/07/2024</td>\n",
              "      <td>57.49%</td>\n",
              "    </tr>\n",
              "    <tr>\n",
              "      <th>1</th>\n",
              "      <td>280</td>\n",
              "      <td>932.35</td>\n",
              "      <td>930.75</td>\n",
              "      <td>511.25%</td>\n",
              "      <td>0.99477</td>\n",
              "      <td>0.00002</td>\n",
              "      <td>-1.03336</td>\n",
              "      <td>0.02333</td>\n",
              "      <td>0.04468</td>\n",
              "      <td>5</td>\n",
              "      <td>0</td>\n",
              "      <td>0.00</td>\n",
              "      <td>Call</td>\n",
              "      <td>06/07/2024</td>\n",
              "      <td>57.49%</td>\n",
              "    </tr>\n",
              "    <tr>\n",
              "      <th>2</th>\n",
              "      <td>290</td>\n",
              "      <td>922.40</td>\n",
              "      <td>920.75</td>\n",
              "      <td>498.94%</td>\n",
              "      <td>0.99465</td>\n",
              "      <td>0.00002</td>\n",
              "      <td>-1.03007</td>\n",
              "      <td>0.02380</td>\n",
              "      <td>0.04630</td>\n",
              "      <td>5</td>\n",
              "      <td>0</td>\n",
              "      <td>0.00</td>\n",
              "      <td>Call</td>\n",
              "      <td>06/07/2024</td>\n",
              "      <td>57.49%</td>\n",
              "    </tr>\n",
              "    <tr>\n",
              "      <th>3</th>\n",
              "      <td>300</td>\n",
              "      <td>904.55</td>\n",
              "      <td>910.75</td>\n",
              "      <td>487.08%</td>\n",
              "      <td>0.99454</td>\n",
              "      <td>0.00002</td>\n",
              "      <td>-1.02667</td>\n",
              "      <td>0.02426</td>\n",
              "      <td>0.04792</td>\n",
              "      <td>2</td>\n",
              "      <td>2</td>\n",
              "      <td>1.00</td>\n",
              "      <td>Call</td>\n",
              "      <td>06/07/2024</td>\n",
              "      <td>57.49%</td>\n",
              "    </tr>\n",
              "    <tr>\n",
              "      <th>4</th>\n",
              "      <td>310</td>\n",
              "      <td>0.00</td>\n",
              "      <td>900.85</td>\n",
              "      <td>479.60%</td>\n",
              "      <td>0.99416</td>\n",
              "      <td>0.00002</td>\n",
              "      <td>-1.07182</td>\n",
              "      <td>0.02573</td>\n",
              "      <td>0.04948</td>\n",
              "      <td>0</td>\n",
              "      <td>0</td>\n",
              "      <td>0.00</td>\n",
              "      <td>Call</td>\n",
              "      <td>NaN</td>\n",
              "      <td>57.49%</td>\n",
              "    </tr>\n",
              "    <tr>\n",
              "      <th>5</th>\n",
              "      <td>320</td>\n",
              "      <td>755.09</td>\n",
              "      <td>890.85</td>\n",
              "      <td>468.47%</td>\n",
              "      <td>0.99404</td>\n",
              "      <td>0.00002</td>\n",
              "      <td>-1.06823</td>\n",
              "      <td>0.02621</td>\n",
              "      <td>0.05109</td>\n",
              "      <td>0</td>\n",
              "      <td>1</td>\n",
              "      <td>0.00</td>\n",
              "      <td>Call</td>\n",
              "      <td>05/31/24</td>\n",
              "      <td>57.49%</td>\n",
              "    </tr>\n",
              "    <tr>\n",
              "      <th>6</th>\n",
              "      <td>330</td>\n",
              "      <td>874.95</td>\n",
              "      <td>880.80</td>\n",
              "      <td>455.81%</td>\n",
              "      <td>0.99405</td>\n",
              "      <td>0.00002</td>\n",
              "      <td>-1.04028</td>\n",
              "      <td>0.02617</td>\n",
              "      <td>0.05275</td>\n",
              "      <td>1</td>\n",
              "      <td>20</td>\n",
              "      <td>0.05</td>\n",
              "      <td>Call</td>\n",
              "      <td>06/07/2024</td>\n",
              "      <td>57.49%</td>\n",
              "    </tr>\n",
              "    <tr>\n",
              "      <th>7</th>\n",
              "      <td>340</td>\n",
              "      <td>0.00</td>\n",
              "      <td>870.90</td>\n",
              "      <td>449.10%</td>\n",
              "      <td>0.99365</td>\n",
              "      <td>0.00003</td>\n",
              "      <td>-1.08486</td>\n",
              "      <td>0.02771</td>\n",
              "      <td>0.05430</td>\n",
              "      <td>0</td>\n",
              "      <td>0</td>\n",
              "      <td>0.00</td>\n",
              "      <td>Call</td>\n",
              "      <td>NaN</td>\n",
              "      <td>57.49%</td>\n",
              "    </tr>\n",
              "    <tr>\n",
              "      <th>8</th>\n",
              "      <td>350</td>\n",
              "      <td>838.62</td>\n",
              "      <td>860.60</td>\n",
              "      <td>427.65%</td>\n",
              "      <td>0.99439</td>\n",
              "      <td>0.00002</td>\n",
              "      <td>-0.93367</td>\n",
              "      <td>0.02481</td>\n",
              "      <td>0.05614</td>\n",
              "      <td>1</td>\n",
              "      <td>5</td>\n",
              "      <td>0.20</td>\n",
              "      <td>Call</td>\n",
              "      <td>06/07/2024</td>\n",
              "      <td>57.49%</td>\n",
              "    </tr>\n",
              "    <tr>\n",
              "      <th>9</th>\n",
              "      <td>360</td>\n",
              "      <td>840.00</td>\n",
              "      <td>850.75</td>\n",
              "      <td>423.75%</td>\n",
              "      <td>0.99383</td>\n",
              "      <td>0.00003</td>\n",
              "      <td>-1.00420</td>\n",
              "      <td>0.02700</td>\n",
              "      <td>0.05765</td>\n",
              "      <td>0</td>\n",
              "      <td>0</td>\n",
              "      <td>0.00</td>\n",
              "      <td>Call</td>\n",
              "      <td>06/05/2024</td>\n",
              "      <td>57.49%</td>\n",
              "    </tr>\n",
              "  </tbody>\n",
              "</table>\n",
              "</div>\n",
              "    <div class=\"colab-df-buttons\">\n",
              "\n",
              "  <div class=\"colab-df-container\">\n",
              "    <button class=\"colab-df-convert\" onclick=\"convertToInteractive('df-907ffe94-fcb4-4aa4-ac92-4e59a4f9dd54')\"\n",
              "            title=\"Convert this dataframe to an interactive table.\"\n",
              "            style=\"display:none;\">\n",
              "\n",
              "  <svg xmlns=\"http://www.w3.org/2000/svg\" height=\"24px\" viewBox=\"0 -960 960 960\">\n",
              "    <path d=\"M120-120v-720h720v720H120Zm60-500h600v-160H180v160Zm220 220h160v-160H400v160Zm0 220h160v-160H400v160ZM180-400h160v-160H180v160Zm440 0h160v-160H620v160ZM180-180h160v-160H180v160Zm440 0h160v-160H620v160Z\"/>\n",
              "  </svg>\n",
              "    </button>\n",
              "\n",
              "  <style>\n",
              "    .colab-df-container {\n",
              "      display:flex;\n",
              "      gap: 12px;\n",
              "    }\n",
              "\n",
              "    .colab-df-convert {\n",
              "      background-color: #E8F0FE;\n",
              "      border: none;\n",
              "      border-radius: 50%;\n",
              "      cursor: pointer;\n",
              "      display: none;\n",
              "      fill: #1967D2;\n",
              "      height: 32px;\n",
              "      padding: 0 0 0 0;\n",
              "      width: 32px;\n",
              "    }\n",
              "\n",
              "    .colab-df-convert:hover {\n",
              "      background-color: #E2EBFA;\n",
              "      box-shadow: 0px 1px 2px rgba(60, 64, 67, 0.3), 0px 1px 3px 1px rgba(60, 64, 67, 0.15);\n",
              "      fill: #174EA6;\n",
              "    }\n",
              "\n",
              "    .colab-df-buttons div {\n",
              "      margin-bottom: 4px;\n",
              "    }\n",
              "\n",
              "    [theme=dark] .colab-df-convert {\n",
              "      background-color: #3B4455;\n",
              "      fill: #D2E3FC;\n",
              "    }\n",
              "\n",
              "    [theme=dark] .colab-df-convert:hover {\n",
              "      background-color: #434B5C;\n",
              "      box-shadow: 0px 1px 3px 1px rgba(0, 0, 0, 0.15);\n",
              "      filter: drop-shadow(0px 1px 2px rgba(0, 0, 0, 0.3));\n",
              "      fill: #FFFFFF;\n",
              "    }\n",
              "  </style>\n",
              "\n",
              "    <script>\n",
              "      const buttonEl =\n",
              "        document.querySelector('#df-907ffe94-fcb4-4aa4-ac92-4e59a4f9dd54 button.colab-df-convert');\n",
              "      buttonEl.style.display =\n",
              "        google.colab.kernel.accessAllowed ? 'block' : 'none';\n",
              "\n",
              "      async function convertToInteractive(key) {\n",
              "        const element = document.querySelector('#df-907ffe94-fcb4-4aa4-ac92-4e59a4f9dd54');\n",
              "        const dataTable =\n",
              "          await google.colab.kernel.invokeFunction('convertToInteractive',\n",
              "                                                    [key], {});\n",
              "        if (!dataTable) return;\n",
              "\n",
              "        const docLinkHtml = 'Like what you see? Visit the ' +\n",
              "          '<a target=\"_blank\" href=https://colab.research.google.com/notebooks/data_table.ipynb>data table notebook</a>'\n",
              "          + ' to learn more about interactive tables.';\n",
              "        element.innerHTML = '';\n",
              "        dataTable['output_type'] = 'display_data';\n",
              "        await google.colab.output.renderOutput(dataTable, element);\n",
              "        const docLink = document.createElement('div');\n",
              "        docLink.innerHTML = docLinkHtml;\n",
              "        element.appendChild(docLink);\n",
              "      }\n",
              "    </script>\n",
              "  </div>\n",
              "\n",
              "\n",
              "<div id=\"df-bc92f0c1-c1a8-4e17-8e51-3a2cb6a9fde6\">\n",
              "  <button class=\"colab-df-quickchart\" onclick=\"quickchart('df-bc92f0c1-c1a8-4e17-8e51-3a2cb6a9fde6')\"\n",
              "            title=\"Suggest charts\"\n",
              "            style=\"display:none;\">\n",
              "\n",
              "<svg xmlns=\"http://www.w3.org/2000/svg\" height=\"24px\"viewBox=\"0 0 24 24\"\n",
              "     width=\"24px\">\n",
              "    <g>\n",
              "        <path d=\"M19 3H5c-1.1 0-2 .9-2 2v14c0 1.1.9 2 2 2h14c1.1 0 2-.9 2-2V5c0-1.1-.9-2-2-2zM9 17H7v-7h2v7zm4 0h-2V7h2v10zm4 0h-2v-4h2v4z\"/>\n",
              "    </g>\n",
              "</svg>\n",
              "  </button>\n",
              "\n",
              "<style>\n",
              "  .colab-df-quickchart {\n",
              "      --bg-color: #E8F0FE;\n",
              "      --fill-color: #1967D2;\n",
              "      --hover-bg-color: #E2EBFA;\n",
              "      --hover-fill-color: #174EA6;\n",
              "      --disabled-fill-color: #AAA;\n",
              "      --disabled-bg-color: #DDD;\n",
              "  }\n",
              "\n",
              "  [theme=dark] .colab-df-quickchart {\n",
              "      --bg-color: #3B4455;\n",
              "      --fill-color: #D2E3FC;\n",
              "      --hover-bg-color: #434B5C;\n",
              "      --hover-fill-color: #FFFFFF;\n",
              "      --disabled-bg-color: #3B4455;\n",
              "      --disabled-fill-color: #666;\n",
              "  }\n",
              "\n",
              "  .colab-df-quickchart {\n",
              "    background-color: var(--bg-color);\n",
              "    border: none;\n",
              "    border-radius: 50%;\n",
              "    cursor: pointer;\n",
              "    display: none;\n",
              "    fill: var(--fill-color);\n",
              "    height: 32px;\n",
              "    padding: 0;\n",
              "    width: 32px;\n",
              "  }\n",
              "\n",
              "  .colab-df-quickchart:hover {\n",
              "    background-color: var(--hover-bg-color);\n",
              "    box-shadow: 0 1px 2px rgba(60, 64, 67, 0.3), 0 1px 3px 1px rgba(60, 64, 67, 0.15);\n",
              "    fill: var(--button-hover-fill-color);\n",
              "  }\n",
              "\n",
              "  .colab-df-quickchart-complete:disabled,\n",
              "  .colab-df-quickchart-complete:disabled:hover {\n",
              "    background-color: var(--disabled-bg-color);\n",
              "    fill: var(--disabled-fill-color);\n",
              "    box-shadow: none;\n",
              "  }\n",
              "\n",
              "  .colab-df-spinner {\n",
              "    border: 2px solid var(--fill-color);\n",
              "    border-color: transparent;\n",
              "    border-bottom-color: var(--fill-color);\n",
              "    animation:\n",
              "      spin 1s steps(1) infinite;\n",
              "  }\n",
              "\n",
              "  @keyframes spin {\n",
              "    0% {\n",
              "      border-color: transparent;\n",
              "      border-bottom-color: var(--fill-color);\n",
              "      border-left-color: var(--fill-color);\n",
              "    }\n",
              "    20% {\n",
              "      border-color: transparent;\n",
              "      border-left-color: var(--fill-color);\n",
              "      border-top-color: var(--fill-color);\n",
              "    }\n",
              "    30% {\n",
              "      border-color: transparent;\n",
              "      border-left-color: var(--fill-color);\n",
              "      border-top-color: var(--fill-color);\n",
              "      border-right-color: var(--fill-color);\n",
              "    }\n",
              "    40% {\n",
              "      border-color: transparent;\n",
              "      border-right-color: var(--fill-color);\n",
              "      border-top-color: var(--fill-color);\n",
              "    }\n",
              "    60% {\n",
              "      border-color: transparent;\n",
              "      border-right-color: var(--fill-color);\n",
              "    }\n",
              "    80% {\n",
              "      border-color: transparent;\n",
              "      border-right-color: var(--fill-color);\n",
              "      border-bottom-color: var(--fill-color);\n",
              "    }\n",
              "    90% {\n",
              "      border-color: transparent;\n",
              "      border-bottom-color: var(--fill-color);\n",
              "    }\n",
              "  }\n",
              "</style>\n",
              "\n",
              "  <script>\n",
              "    async function quickchart(key) {\n",
              "      const quickchartButtonEl =\n",
              "        document.querySelector('#' + key + ' button');\n",
              "      quickchartButtonEl.disabled = true;  // To prevent multiple clicks.\n",
              "      quickchartButtonEl.classList.add('colab-df-spinner');\n",
              "      try {\n",
              "        const charts = await google.colab.kernel.invokeFunction(\n",
              "            'suggestCharts', [key], {});\n",
              "      } catch (error) {\n",
              "        console.error('Error during call to suggestCharts:', error);\n",
              "      }\n",
              "      quickchartButtonEl.classList.remove('colab-df-spinner');\n",
              "      quickchartButtonEl.classList.add('colab-df-quickchart-complete');\n",
              "    }\n",
              "    (() => {\n",
              "      let quickchartButtonEl =\n",
              "        document.querySelector('#df-bc92f0c1-c1a8-4e17-8e51-3a2cb6a9fde6 button');\n",
              "      quickchartButtonEl.style.display =\n",
              "        google.colab.kernel.accessAllowed ? 'block' : 'none';\n",
              "    })();\n",
              "  </script>\n",
              "</div>\n",
              "    </div>\n",
              "  </div>\n"
            ],
            "application/vnd.google.colaboratory.intrinsic+json": {
              "type": "dataframe",
              "summary": "{\n  \"name\": \"df[:10]\",\n  \"rows\": 10,\n  \"fields\": [\n    {\n      \"column\": \"Strike\",\n      \"properties\": {\n        \"dtype\": \"string\",\n        \"num_unique_values\": 10,\n        \"samples\": [\n          \"350\",\n          \"280\",\n          \"320\"\n        ],\n        \"semantic_type\": \"\",\n        \"description\": \"\"\n      }\n    },\n    {\n      \"column\": \"Last\",\n      \"properties\": {\n        \"dtype\": \"number\",\n        \"std\": 373.2813487393479,\n        \"min\": 0.0,\n        \"max\": 937.29,\n        \"num_unique_values\": 9,\n        \"samples\": [\n          838.62,\n          932.35,\n          755.09\n        ],\n        \"semantic_type\": \"\",\n        \"description\": \"\"\n      }\n    },\n    {\n      \"column\": \"Theor.\",\n      \"properties\": {\n        \"dtype\": \"number\",\n        \"std\": 32.07157620074199,\n        \"min\": 850.75,\n        \"max\": 950.9,\n        \"num_unique_values\": 10,\n        \"samples\": [\n          860.6,\n          930.75,\n          890.85\n        ],\n        \"semantic_type\": \"\",\n        \"description\": \"\"\n      }\n    },\n    {\n      \"column\": \"IV\",\n      \"properties\": {\n        \"dtype\": \"string\",\n        \"num_unique_values\": 10,\n        \"samples\": [\n          \"427.65%\",\n          \"511.25%\",\n          \"468.47%\"\n        ],\n        \"semantic_type\": \"\",\n        \"description\": \"\"\n      }\n    },\n    {\n      \"column\": \"Delta\",\n      \"properties\": {\n        \"dtype\": \"number\",\n        \"std\": 0.0003848304099787975,\n        \"min\": 0.99365,\n        \"max\": 0.99477,\n        \"num_unique_values\": 10,\n        \"samples\": [\n          0.99439,\n          0.99477,\n          0.99404\n        ],\n        \"semantic_type\": \"\",\n        \"description\": \"\"\n      }\n    },\n    {\n      \"column\": \"Gamma\",\n      \"properties\": {\n        \"dtype\": \"number\",\n        \"std\": 4.216370213557838e-06,\n        \"min\": 2e-05,\n        \"max\": 3e-05,\n        \"num_unique_values\": 2,\n        \"samples\": [\n          3e-05,\n          2e-05\n        ],\n        \"semantic_type\": \"\",\n        \"description\": \"\"\n      }\n    },\n    {\n      \"column\": \"Theta\",\n      \"properties\": {\n        \"dtype\": \"number\",\n        \"std\": 0.04932554582679357,\n        \"min\": -1.1119,\n        \"max\": -0.93367,\n        \"num_unique_values\": 10,\n        \"samples\": [\n          -0.93367,\n          -1.03336\n        ],\n        \"semantic_type\": \"\",\n        \"description\": \"\"\n      }\n    },\n    {\n      \"column\": \"Vega\",\n      \"properties\": {\n        \"dtype\": \"number\",\n        \"std\": 0.0015047794227431171,\n        \"min\": 0.02333,\n        \"max\": 0.02771,\n        \"num_unique_values\": 10,\n        \"samples\": [\n          0.02481,\n          0.02333\n        ],\n        \"semantic_type\": \"\",\n        \"description\": \"\"\n      }\n    },\n    {\n      \"column\": \"Rho\",\n      \"properties\": {\n        \"dtype\": \"number\",\n        \"std\": 0.005213218668815734,\n        \"min\": 0.04135,\n        \"max\": 0.05765,\n        \"num_unique_values\": 10,\n        \"samples\": [\n          0.05614,\n          0.04468\n        ],\n        \"semantic_type\": \"\",\n        \"description\": \"\"\n      }\n    },\n    {\n      \"column\": \"Volume\",\n      \"properties\": {\n        \"dtype\": \"category\",\n        \"num_unique_values\": 4,\n        \"samples\": [\n          \"2\",\n          \"1\"\n        ],\n        \"semantic_type\": \"\",\n        \"description\": \"\"\n      }\n    },\n    {\n      \"column\": \"Open Int\",\n      \"properties\": {\n        \"dtype\": \"string\",\n        \"num_unique_values\": 5,\n        \"samples\": [\n          \"0\",\n          \"5\"\n        ],\n        \"semantic_type\": \"\",\n        \"description\": \"\"\n      }\n    },\n    {\n      \"column\": \"Vol/OI\",\n      \"properties\": {\n        \"dtype\": \"number\",\n        \"std\": 0.8087198388674398,\n        \"min\": 0.0,\n        \"max\": 2.5,\n        \"num_unique_values\": 5,\n        \"samples\": [\n          0.0,\n          0.2\n        ],\n        \"semantic_type\": \"\",\n        \"description\": \"\"\n      }\n    },\n    {\n      \"column\": \"Type\",\n      \"properties\": {\n        \"dtype\": \"category\",\n        \"num_unique_values\": 1,\n        \"samples\": [\n          \"Call\"\n        ],\n        \"semantic_type\": \"\",\n        \"description\": \"\"\n      }\n    },\n    {\n      \"column\": \"Last Trade\",\n      \"properties\": {\n        \"dtype\": \"category\",\n        \"num_unique_values\": 3,\n        \"samples\": [\n          \"06/07/2024\"\n        ],\n        \"semantic_type\": \"\",\n        \"description\": \"\"\n      }\n    },\n    {\n      \"column\": \"Avg IV\",\n      \"properties\": {\n        \"dtype\": \"category\",\n        \"num_unique_values\": 1,\n        \"samples\": [\n          \"57.49%\"\n        ],\n        \"semantic_type\": \"\",\n        \"description\": \"\"\n      }\n    }\n  ]\n}"
            }
          },
          "metadata": {},
          "execution_count": 3
        }
      ]
    },
    {
      "cell_type": "code",
      "source": [
        "# drop all NaN rows\n",
        "df.dropna(inplace=True)"
      ],
      "metadata": {
        "id": "p4CCSGmBdR6t"
      },
      "execution_count": 4,
      "outputs": []
    },
    {
      "cell_type": "code",
      "source": [
        "# total null values\n",
        "df.isnull().sum()"
      ],
      "metadata": {
        "colab": {
          "base_uri": "https://localhost:8080/"
        },
        "id": "JB4GY-pC4djj",
        "outputId": "05b305c8-e6de-4cd0-9a4a-8e7c72768e06"
      },
      "execution_count": 5,
      "outputs": [
        {
          "output_type": "execute_result",
          "data": {
            "text/plain": [
              "Strike        0\n",
              "Last          0\n",
              "Theor.        0\n",
              "IV            0\n",
              "Delta         0\n",
              "Gamma         0\n",
              "Theta         0\n",
              "Vega          0\n",
              "Rho           0\n",
              "Volume        0\n",
              "Open Int      0\n",
              "Vol/OI        0\n",
              "Type          0\n",
              "Last Trade    0\n",
              "Avg IV        0\n",
              "dtype: int64"
            ]
          },
          "metadata": {},
          "execution_count": 5
        }
      ]
    },
    {
      "cell_type": "code",
      "source": [
        "# checking data types\n",
        "df.info()"
      ],
      "metadata": {
        "colab": {
          "base_uri": "https://localhost:8080/"
        },
        "id": "XJ3HjliAbThr",
        "outputId": "b583d704-b38d-45e0-f84c-5783d505edd5"
      },
      "execution_count": 6,
      "outputs": [
        {
          "output_type": "stream",
          "name": "stdout",
          "text": [
            "<class 'pandas.core.frame.DataFrame'>\n",
            "Index: 455 entries, 0 to 475\n",
            "Data columns (total 15 columns):\n",
            " #   Column      Non-Null Count  Dtype  \n",
            "---  ------      --------------  -----  \n",
            " 0   Strike      455 non-null    object \n",
            " 1   Last        455 non-null    float64\n",
            " 2   Theor.      455 non-null    float64\n",
            " 3   IV          455 non-null    object \n",
            " 4   Delta       455 non-null    float64\n",
            " 5   Gamma       455 non-null    float64\n",
            " 6   Theta       455 non-null    float64\n",
            " 7   Vega        455 non-null    float64\n",
            " 8   Rho         455 non-null    float64\n",
            " 9   Volume      455 non-null    object \n",
            " 10  Open Int    455 non-null    object \n",
            " 11  Vol/OI      455 non-null    float64\n",
            " 12  Type        455 non-null    object \n",
            " 13  Last Trade  455 non-null    object \n",
            " 14  Avg IV      455 non-null    object \n",
            "dtypes: float64(8), object(7)\n",
            "memory usage: 56.9+ KB\n"
          ]
        }
      ]
    },
    {
      "cell_type": "code",
      "source": [
        "# spliting data frame into call and put option\n",
        "call = df[df['Type'] == 'Call']\n",
        "put = df[df['Type'] == 'Put']"
      ],
      "metadata": {
        "id": "eKItGVpgnUe5"
      },
      "execution_count": 7,
      "outputs": []
    },
    {
      "cell_type": "code",
      "source": [
        "# functions for option geeks\n",
        "def call_delta(S, K, T, r, sigma):\n",
        "    d1 = (np.log(S / K) + (r + 0.5 * sigma ** 2) * T) / (sigma * np.sqrt(T))\n",
        "    delta = norm.cdf(d1)\n",
        "    return delta\n",
        "\n",
        "def call_gamma(S, K, T, r, sigma):\n",
        "    d1 = (np.log(S / K) + (r + 0.5 * sigma ** 2) * T) / (sigma * np.sqrt(T))\n",
        "    gamma = norm.pdf(d1) / (S * sigma * np.sqrt(T))\n",
        "    return gamma\n",
        "\n",
        "def call_theta(S, K, T, r, sigma):\n",
        "    d1 = (np.log(S / K) + (r + 0.5 * sigma ** 2) * T) / (sigma * np.sqrt(T))\n",
        "    d2 = d1 - sigma * np.sqrt(T)\n",
        "    theta = -(S * norm.pdf(d1) * sigma) / (2 * np.sqrt(T)) - r * K * np.exp(-r * T) * norm.cdf(d2)\n",
        "    return theta / 365\n",
        "\n",
        "def call_vega(S, K, T, r, sigma):\n",
        "    d1 = (np.log(S / K) + (r + 0.5 * sigma ** 2) * T) / (sigma * np.sqrt(T))\n",
        "    vega = S * norm.pdf(d1) * np.sqrt(T)\n",
        "    return vega / 100\n",
        "\n",
        "def call_rho(S, K, T, r, sigma):\n",
        "    d1 = (np.log(S / K) + (r + 0.5 * sigma ** 2) * T) / (sigma * np.sqrt(T))\n",
        "    d2 = d1 - sigma * np.sqrt(T)\n",
        "    rho = K * T * np.exp(-r * T) * norm.cdf(d2)\n",
        "    return rho / 100"
      ],
      "metadata": {
        "id": "BaLNdRhkClfV"
      },
      "execution_count": 8,
      "outputs": []
    },
    {
      "cell_type": "code",
      "source": [
        "S = 1208                                # Current stock price\n",
        "K = 1210                                # Strike price\n",
        "T = 7 / 365                             # Time to expiration (in years, converted from days)\n",
        "r = 2.13/100                            # Risk-free interest rate (US Real Interest Rate)\n",
        "implied_volatility_value = 0.57         # Implied volatility (converted from percentage)\n",
        "historic_volatility_value = 0.47        # Historic volatility (converted from percentage)"
      ],
      "metadata": {
        "id": "GYvjJ6nrCrAN"
      },
      "execution_count": 9,
      "outputs": []
    },
    {
      "cell_type": "code",
      "source": [
        "#Greeks using implied volatility\n",
        "def implied_volatility(S, K, T, r, sigma):\n",
        "    call_delta_value = call_delta(S, K, T, r, sigma)\n",
        "    call_gamma_value = call_gamma(S, K, T, r, sigma)\n",
        "    call_theta_value = call_theta(S, K, T, r, sigma)\n",
        "    call_vega_value = call_vega(S, K, T, r, sigma)\n",
        "    call_rho_value = call_rho(S, K, T, r, sigma)\n",
        "\n",
        "    print(\"Using Implied Volatility:\")\n",
        "    print(f\"Call Delta: {call_delta_value:.2f}\")\n",
        "    print(f\"Call Gamma: {call_gamma_value:.2f}\")\n",
        "    print(f\"Call Theta: {call_theta_value:.2f}\")\n",
        "    print(f\"Call Vega: {call_vega_value:.2f}\")\n",
        "    print(f\"Call Rho: {call_rho_value:.2f}\")"
      ],
      "metadata": {
        "id": "tmd43AoM9smi"
      },
      "execution_count": 10,
      "outputs": []
    },
    {
      "cell_type": "code",
      "source": [
        "# volatility rate 0.57\n",
        "implied_volatility(S, K, T, r, implied_volatility_value)"
      ],
      "metadata": {
        "colab": {
          "base_uri": "https://localhost:8080/"
        },
        "id": "2fY_eIHbD9eQ",
        "outputId": "2db09101-22af-4c10-951c-a2632ae6df4f"
      },
      "execution_count": 11,
      "outputs": [
        {
          "output_type": "stream",
          "name": "stdout",
          "text": [
            "Using Implied Volatility:\n",
            "Call Delta: 0.51\n",
            "Call Gamma: 0.00\n",
            "Call Theta: -2.75\n",
            "Call Vega: 0.67\n",
            "Call Rho: 0.11\n"
          ]
        }
      ]
    },
    {
      "cell_type": "code",
      "source": [
        "#Greeks using Historical volatility\n",
        "def historic_volatility(S, K, T, r, sigma):\n",
        "    call_delta_value = call_delta(S, K, T, r, sigma)\n",
        "    call_gamma_value = call_gamma(S, K, T, r, sigma)\n",
        "    call_theta_value = call_theta(S, K, T, r, sigma)\n",
        "    call_vega_value = call_vega(S, K, T, r, sigma)\n",
        "    call_rho_value = call_rho(S, K, T, r, sigma)\n",
        "\n",
        "    print(\"\\nUsing Historic Volatility:\")\n",
        "    print(f\"Call Delta: {call_delta_value:.2f}\")\n",
        "    print(f\"Call Gamma: {call_gamma_value:.2f}\")\n",
        "    print(f\"Call Theta: {call_theta_value:.2f}\")\n",
        "    print(f\"Call Vega: {call_vega_value:.2f}\")\n",
        "    print(f\"Call Rho: {call_rho_value:.2f}\")"
      ],
      "metadata": {
        "id": "XqbeijZXFNPd"
      },
      "execution_count": 12,
      "outputs": []
    },
    {
      "cell_type": "code",
      "source": [
        "# volatility rate 0.47\n",
        "historic_volatility(S, K, T, r, historic_volatility_value)"
      ],
      "metadata": {
        "colab": {
          "base_uri": "https://localhost:8080/"
        },
        "id": "kttUMxtGFB4H",
        "outputId": "49519ed5-4585-4740-b55c-09bb931ff22d"
      },
      "execution_count": 13,
      "outputs": [
        {
          "output_type": "stream",
          "name": "stdout",
          "text": [
            "\n",
            "Using Historic Volatility:\n",
            "Call Delta: 0.51\n",
            "Call Gamma: 0.01\n",
            "Call Theta: -2.27\n",
            "Call Vega: 0.67\n",
            "Call Rho: 0.11\n"
          ]
        }
      ]
    },
    {
      "cell_type": "code",
      "source": [
        "# check rows between 150 - 160\n",
        "call.iloc[153:160]"
      ],
      "metadata": {
        "colab": {
          "base_uri": "https://localhost:8080/",
          "height": 269
        },
        "id": "opxkQVk692wk",
        "outputId": "b59360e9-9658-45e1-8200-9b15d327b893"
      },
      "execution_count": 14,
      "outputs": [
        {
          "output_type": "execute_result",
          "data": {
            "text/plain": [
              "       Strike   Last  Theor.      IV    Delta    Gamma    Theta     Vega  \\\n",
              "162  1,210.00  35.56   35.56  57.58%  0.51444  0.00447 -3.05001  0.61790   \n",
              "163  1,215.00  33.13   33.13  57.47%  0.49209  0.00448 -3.04256  0.61818   \n",
              "164  1,220.00  31.00   31.00  57.68%  0.47009  0.00445 -3.04179  0.61656   \n",
              "165  1,225.00  28.75   28.75  57.51%  0.44790  0.00444 -3.01266  0.61302   \n",
              "166  1,230.00  26.81   26.81  57.67%  0.42643  0.00439 -2.99218  0.60776   \n",
              "167  1,235.00  24.82   24.82  57.58%  0.40483  0.00434 -2.94972  0.60063   \n",
              "168  1,240.00  23.10   23.10  57.77%  0.38422  0.00427 -2.91443  0.59208   \n",
              "\n",
              "         Rho  Volume Open Int  Vol/OI  Type  Last Trade  Avg IV  \n",
              "162  0.09638  10,653    2,252    4.73  Call  06/07/2024  57.49%  \n",
              "163  0.09234   4,725    1,548    3.05  Call  06/07/2024  57.49%  \n",
              "164  0.08832   7,516    2,902    2.59  Call  06/07/2024  57.49%  \n",
              "165  0.08428   3,379    1,445    2.34  Call  06/07/2024  57.49%  \n",
              "166  0.08033   3,300    3,328    0.99  Call  06/07/2024  57.49%  \n",
              "167  0.07637   1,586    1,008    1.57  Call  06/07/2024  57.49%  \n",
              "168  0.07256   3,632    2,448    1.48  Call  06/07/2024  57.49%  "
            ],
            "text/html": [
              "\n",
              "  <div id=\"df-d573d893-b2fd-4e47-9edf-2ef524141478\" class=\"colab-df-container\">\n",
              "    <div>\n",
              "<style scoped>\n",
              "    .dataframe tbody tr th:only-of-type {\n",
              "        vertical-align: middle;\n",
              "    }\n",
              "\n",
              "    .dataframe tbody tr th {\n",
              "        vertical-align: top;\n",
              "    }\n",
              "\n",
              "    .dataframe thead th {\n",
              "        text-align: right;\n",
              "    }\n",
              "</style>\n",
              "<table border=\"1\" class=\"dataframe\">\n",
              "  <thead>\n",
              "    <tr style=\"text-align: right;\">\n",
              "      <th></th>\n",
              "      <th>Strike</th>\n",
              "      <th>Last</th>\n",
              "      <th>Theor.</th>\n",
              "      <th>IV</th>\n",
              "      <th>Delta</th>\n",
              "      <th>Gamma</th>\n",
              "      <th>Theta</th>\n",
              "      <th>Vega</th>\n",
              "      <th>Rho</th>\n",
              "      <th>Volume</th>\n",
              "      <th>Open Int</th>\n",
              "      <th>Vol/OI</th>\n",
              "      <th>Type</th>\n",
              "      <th>Last Trade</th>\n",
              "      <th>Avg IV</th>\n",
              "    </tr>\n",
              "  </thead>\n",
              "  <tbody>\n",
              "    <tr>\n",
              "      <th>162</th>\n",
              "      <td>1,210.00</td>\n",
              "      <td>35.56</td>\n",
              "      <td>35.56</td>\n",
              "      <td>57.58%</td>\n",
              "      <td>0.51444</td>\n",
              "      <td>0.00447</td>\n",
              "      <td>-3.05001</td>\n",
              "      <td>0.61790</td>\n",
              "      <td>0.09638</td>\n",
              "      <td>10,653</td>\n",
              "      <td>2,252</td>\n",
              "      <td>4.73</td>\n",
              "      <td>Call</td>\n",
              "      <td>06/07/2024</td>\n",
              "      <td>57.49%</td>\n",
              "    </tr>\n",
              "    <tr>\n",
              "      <th>163</th>\n",
              "      <td>1,215.00</td>\n",
              "      <td>33.13</td>\n",
              "      <td>33.13</td>\n",
              "      <td>57.47%</td>\n",
              "      <td>0.49209</td>\n",
              "      <td>0.00448</td>\n",
              "      <td>-3.04256</td>\n",
              "      <td>0.61818</td>\n",
              "      <td>0.09234</td>\n",
              "      <td>4,725</td>\n",
              "      <td>1,548</td>\n",
              "      <td>3.05</td>\n",
              "      <td>Call</td>\n",
              "      <td>06/07/2024</td>\n",
              "      <td>57.49%</td>\n",
              "    </tr>\n",
              "    <tr>\n",
              "      <th>164</th>\n",
              "      <td>1,220.00</td>\n",
              "      <td>31.00</td>\n",
              "      <td>31.00</td>\n",
              "      <td>57.68%</td>\n",
              "      <td>0.47009</td>\n",
              "      <td>0.00445</td>\n",
              "      <td>-3.04179</td>\n",
              "      <td>0.61656</td>\n",
              "      <td>0.08832</td>\n",
              "      <td>7,516</td>\n",
              "      <td>2,902</td>\n",
              "      <td>2.59</td>\n",
              "      <td>Call</td>\n",
              "      <td>06/07/2024</td>\n",
              "      <td>57.49%</td>\n",
              "    </tr>\n",
              "    <tr>\n",
              "      <th>165</th>\n",
              "      <td>1,225.00</td>\n",
              "      <td>28.75</td>\n",
              "      <td>28.75</td>\n",
              "      <td>57.51%</td>\n",
              "      <td>0.44790</td>\n",
              "      <td>0.00444</td>\n",
              "      <td>-3.01266</td>\n",
              "      <td>0.61302</td>\n",
              "      <td>0.08428</td>\n",
              "      <td>3,379</td>\n",
              "      <td>1,445</td>\n",
              "      <td>2.34</td>\n",
              "      <td>Call</td>\n",
              "      <td>06/07/2024</td>\n",
              "      <td>57.49%</td>\n",
              "    </tr>\n",
              "    <tr>\n",
              "      <th>166</th>\n",
              "      <td>1,230.00</td>\n",
              "      <td>26.81</td>\n",
              "      <td>26.81</td>\n",
              "      <td>57.67%</td>\n",
              "      <td>0.42643</td>\n",
              "      <td>0.00439</td>\n",
              "      <td>-2.99218</td>\n",
              "      <td>0.60776</td>\n",
              "      <td>0.08033</td>\n",
              "      <td>3,300</td>\n",
              "      <td>3,328</td>\n",
              "      <td>0.99</td>\n",
              "      <td>Call</td>\n",
              "      <td>06/07/2024</td>\n",
              "      <td>57.49%</td>\n",
              "    </tr>\n",
              "    <tr>\n",
              "      <th>167</th>\n",
              "      <td>1,235.00</td>\n",
              "      <td>24.82</td>\n",
              "      <td>24.82</td>\n",
              "      <td>57.58%</td>\n",
              "      <td>0.40483</td>\n",
              "      <td>0.00434</td>\n",
              "      <td>-2.94972</td>\n",
              "      <td>0.60063</td>\n",
              "      <td>0.07637</td>\n",
              "      <td>1,586</td>\n",
              "      <td>1,008</td>\n",
              "      <td>1.57</td>\n",
              "      <td>Call</td>\n",
              "      <td>06/07/2024</td>\n",
              "      <td>57.49%</td>\n",
              "    </tr>\n",
              "    <tr>\n",
              "      <th>168</th>\n",
              "      <td>1,240.00</td>\n",
              "      <td>23.10</td>\n",
              "      <td>23.10</td>\n",
              "      <td>57.77%</td>\n",
              "      <td>0.38422</td>\n",
              "      <td>0.00427</td>\n",
              "      <td>-2.91443</td>\n",
              "      <td>0.59208</td>\n",
              "      <td>0.07256</td>\n",
              "      <td>3,632</td>\n",
              "      <td>2,448</td>\n",
              "      <td>1.48</td>\n",
              "      <td>Call</td>\n",
              "      <td>06/07/2024</td>\n",
              "      <td>57.49%</td>\n",
              "    </tr>\n",
              "  </tbody>\n",
              "</table>\n",
              "</div>\n",
              "    <div class=\"colab-df-buttons\">\n",
              "\n",
              "  <div class=\"colab-df-container\">\n",
              "    <button class=\"colab-df-convert\" onclick=\"convertToInteractive('df-d573d893-b2fd-4e47-9edf-2ef524141478')\"\n",
              "            title=\"Convert this dataframe to an interactive table.\"\n",
              "            style=\"display:none;\">\n",
              "\n",
              "  <svg xmlns=\"http://www.w3.org/2000/svg\" height=\"24px\" viewBox=\"0 -960 960 960\">\n",
              "    <path d=\"M120-120v-720h720v720H120Zm60-500h600v-160H180v160Zm220 220h160v-160H400v160Zm0 220h160v-160H400v160ZM180-400h160v-160H180v160Zm440 0h160v-160H620v160ZM180-180h160v-160H180v160Zm440 0h160v-160H620v160Z\"/>\n",
              "  </svg>\n",
              "    </button>\n",
              "\n",
              "  <style>\n",
              "    .colab-df-container {\n",
              "      display:flex;\n",
              "      gap: 12px;\n",
              "    }\n",
              "\n",
              "    .colab-df-convert {\n",
              "      background-color: #E8F0FE;\n",
              "      border: none;\n",
              "      border-radius: 50%;\n",
              "      cursor: pointer;\n",
              "      display: none;\n",
              "      fill: #1967D2;\n",
              "      height: 32px;\n",
              "      padding: 0 0 0 0;\n",
              "      width: 32px;\n",
              "    }\n",
              "\n",
              "    .colab-df-convert:hover {\n",
              "      background-color: #E2EBFA;\n",
              "      box-shadow: 0px 1px 2px rgba(60, 64, 67, 0.3), 0px 1px 3px 1px rgba(60, 64, 67, 0.15);\n",
              "      fill: #174EA6;\n",
              "    }\n",
              "\n",
              "    .colab-df-buttons div {\n",
              "      margin-bottom: 4px;\n",
              "    }\n",
              "\n",
              "    [theme=dark] .colab-df-convert {\n",
              "      background-color: #3B4455;\n",
              "      fill: #D2E3FC;\n",
              "    }\n",
              "\n",
              "    [theme=dark] .colab-df-convert:hover {\n",
              "      background-color: #434B5C;\n",
              "      box-shadow: 0px 1px 3px 1px rgba(0, 0, 0, 0.15);\n",
              "      filter: drop-shadow(0px 1px 2px rgba(0, 0, 0, 0.3));\n",
              "      fill: #FFFFFF;\n",
              "    }\n",
              "  </style>\n",
              "\n",
              "    <script>\n",
              "      const buttonEl =\n",
              "        document.querySelector('#df-d573d893-b2fd-4e47-9edf-2ef524141478 button.colab-df-convert');\n",
              "      buttonEl.style.display =\n",
              "        google.colab.kernel.accessAllowed ? 'block' : 'none';\n",
              "\n",
              "      async function convertToInteractive(key) {\n",
              "        const element = document.querySelector('#df-d573d893-b2fd-4e47-9edf-2ef524141478');\n",
              "        const dataTable =\n",
              "          await google.colab.kernel.invokeFunction('convertToInteractive',\n",
              "                                                    [key], {});\n",
              "        if (!dataTable) return;\n",
              "\n",
              "        const docLinkHtml = 'Like what you see? Visit the ' +\n",
              "          '<a target=\"_blank\" href=https://colab.research.google.com/notebooks/data_table.ipynb>data table notebook</a>'\n",
              "          + ' to learn more about interactive tables.';\n",
              "        element.innerHTML = '';\n",
              "        dataTable['output_type'] = 'display_data';\n",
              "        await google.colab.output.renderOutput(dataTable, element);\n",
              "        const docLink = document.createElement('div');\n",
              "        docLink.innerHTML = docLinkHtml;\n",
              "        element.appendChild(docLink);\n",
              "      }\n",
              "    </script>\n",
              "  </div>\n",
              "\n",
              "\n",
              "<div id=\"df-ed945f95-57ca-46a2-88b1-15010b706469\">\n",
              "  <button class=\"colab-df-quickchart\" onclick=\"quickchart('df-ed945f95-57ca-46a2-88b1-15010b706469')\"\n",
              "            title=\"Suggest charts\"\n",
              "            style=\"display:none;\">\n",
              "\n",
              "<svg xmlns=\"http://www.w3.org/2000/svg\" height=\"24px\"viewBox=\"0 0 24 24\"\n",
              "     width=\"24px\">\n",
              "    <g>\n",
              "        <path d=\"M19 3H5c-1.1 0-2 .9-2 2v14c0 1.1.9 2 2 2h14c1.1 0 2-.9 2-2V5c0-1.1-.9-2-2-2zM9 17H7v-7h2v7zm4 0h-2V7h2v10zm4 0h-2v-4h2v4z\"/>\n",
              "    </g>\n",
              "</svg>\n",
              "  </button>\n",
              "\n",
              "<style>\n",
              "  .colab-df-quickchart {\n",
              "      --bg-color: #E8F0FE;\n",
              "      --fill-color: #1967D2;\n",
              "      --hover-bg-color: #E2EBFA;\n",
              "      --hover-fill-color: #174EA6;\n",
              "      --disabled-fill-color: #AAA;\n",
              "      --disabled-bg-color: #DDD;\n",
              "  }\n",
              "\n",
              "  [theme=dark] .colab-df-quickchart {\n",
              "      --bg-color: #3B4455;\n",
              "      --fill-color: #D2E3FC;\n",
              "      --hover-bg-color: #434B5C;\n",
              "      --hover-fill-color: #FFFFFF;\n",
              "      --disabled-bg-color: #3B4455;\n",
              "      --disabled-fill-color: #666;\n",
              "  }\n",
              "\n",
              "  .colab-df-quickchart {\n",
              "    background-color: var(--bg-color);\n",
              "    border: none;\n",
              "    border-radius: 50%;\n",
              "    cursor: pointer;\n",
              "    display: none;\n",
              "    fill: var(--fill-color);\n",
              "    height: 32px;\n",
              "    padding: 0;\n",
              "    width: 32px;\n",
              "  }\n",
              "\n",
              "  .colab-df-quickchart:hover {\n",
              "    background-color: var(--hover-bg-color);\n",
              "    box-shadow: 0 1px 2px rgba(60, 64, 67, 0.3), 0 1px 3px 1px rgba(60, 64, 67, 0.15);\n",
              "    fill: var(--button-hover-fill-color);\n",
              "  }\n",
              "\n",
              "  .colab-df-quickchart-complete:disabled,\n",
              "  .colab-df-quickchart-complete:disabled:hover {\n",
              "    background-color: var(--disabled-bg-color);\n",
              "    fill: var(--disabled-fill-color);\n",
              "    box-shadow: none;\n",
              "  }\n",
              "\n",
              "  .colab-df-spinner {\n",
              "    border: 2px solid var(--fill-color);\n",
              "    border-color: transparent;\n",
              "    border-bottom-color: var(--fill-color);\n",
              "    animation:\n",
              "      spin 1s steps(1) infinite;\n",
              "  }\n",
              "\n",
              "  @keyframes spin {\n",
              "    0% {\n",
              "      border-color: transparent;\n",
              "      border-bottom-color: var(--fill-color);\n",
              "      border-left-color: var(--fill-color);\n",
              "    }\n",
              "    20% {\n",
              "      border-color: transparent;\n",
              "      border-left-color: var(--fill-color);\n",
              "      border-top-color: var(--fill-color);\n",
              "    }\n",
              "    30% {\n",
              "      border-color: transparent;\n",
              "      border-left-color: var(--fill-color);\n",
              "      border-top-color: var(--fill-color);\n",
              "      border-right-color: var(--fill-color);\n",
              "    }\n",
              "    40% {\n",
              "      border-color: transparent;\n",
              "      border-right-color: var(--fill-color);\n",
              "      border-top-color: var(--fill-color);\n",
              "    }\n",
              "    60% {\n",
              "      border-color: transparent;\n",
              "      border-right-color: var(--fill-color);\n",
              "    }\n",
              "    80% {\n",
              "      border-color: transparent;\n",
              "      border-right-color: var(--fill-color);\n",
              "      border-bottom-color: var(--fill-color);\n",
              "    }\n",
              "    90% {\n",
              "      border-color: transparent;\n",
              "      border-bottom-color: var(--fill-color);\n",
              "    }\n",
              "  }\n",
              "</style>\n",
              "\n",
              "  <script>\n",
              "    async function quickchart(key) {\n",
              "      const quickchartButtonEl =\n",
              "        document.querySelector('#' + key + ' button');\n",
              "      quickchartButtonEl.disabled = true;  // To prevent multiple clicks.\n",
              "      quickchartButtonEl.classList.add('colab-df-spinner');\n",
              "      try {\n",
              "        const charts = await google.colab.kernel.invokeFunction(\n",
              "            'suggestCharts', [key], {});\n",
              "      } catch (error) {\n",
              "        console.error('Error during call to suggestCharts:', error);\n",
              "      }\n",
              "      quickchartButtonEl.classList.remove('colab-df-spinner');\n",
              "      quickchartButtonEl.classList.add('colab-df-quickchart-complete');\n",
              "    }\n",
              "    (() => {\n",
              "      let quickchartButtonEl =\n",
              "        document.querySelector('#df-ed945f95-57ca-46a2-88b1-15010b706469 button');\n",
              "      quickchartButtonEl.style.display =\n",
              "        google.colab.kernel.accessAllowed ? 'block' : 'none';\n",
              "    })();\n",
              "  </script>\n",
              "</div>\n",
              "    </div>\n",
              "  </div>\n"
            ],
            "application/vnd.google.colaboratory.intrinsic+json": {
              "type": "dataframe",
              "repr_error": "0"
            }
          },
          "metadata": {},
          "execution_count": 14
        }
      ]
    },
    {
      "cell_type": "code",
      "source": [
        "# calling function to calculate geeks of row 150 -160\n",
        "for i in call.iloc[153:160]['Strike']:\n",
        "    implied_volatility(S, K, T, r, implied_volatility_value)\n",
        "    print()"
      ],
      "metadata": {
        "colab": {
          "base_uri": "https://localhost:8080/"
        },
        "id": "YA2nRe8v-ZG8",
        "outputId": "8d0fbad5-c79a-431b-f6c0-71f6f9c80ce5"
      },
      "execution_count": 15,
      "outputs": [
        {
          "output_type": "stream",
          "name": "stdout",
          "text": [
            "Using Implied Volatility:\n",
            "Call Delta: 0.51\n",
            "Call Gamma: 0.00\n",
            "Call Theta: -2.75\n",
            "Call Vega: 0.67\n",
            "Call Rho: 0.11\n",
            "\n",
            "Using Implied Volatility:\n",
            "Call Delta: 0.51\n",
            "Call Gamma: 0.00\n",
            "Call Theta: -2.75\n",
            "Call Vega: 0.67\n",
            "Call Rho: 0.11\n",
            "\n",
            "Using Implied Volatility:\n",
            "Call Delta: 0.51\n",
            "Call Gamma: 0.00\n",
            "Call Theta: -2.75\n",
            "Call Vega: 0.67\n",
            "Call Rho: 0.11\n",
            "\n",
            "Using Implied Volatility:\n",
            "Call Delta: 0.51\n",
            "Call Gamma: 0.00\n",
            "Call Theta: -2.75\n",
            "Call Vega: 0.67\n",
            "Call Rho: 0.11\n",
            "\n",
            "Using Implied Volatility:\n",
            "Call Delta: 0.51\n",
            "Call Gamma: 0.00\n",
            "Call Theta: -2.75\n",
            "Call Vega: 0.67\n",
            "Call Rho: 0.11\n",
            "\n",
            "Using Implied Volatility:\n",
            "Call Delta: 0.51\n",
            "Call Gamma: 0.00\n",
            "Call Theta: -2.75\n",
            "Call Vega: 0.67\n",
            "Call Rho: 0.11\n",
            "\n",
            "Using Implied Volatility:\n",
            "Call Delta: 0.51\n",
            "Call Gamma: 0.00\n",
            "Call Theta: -2.75\n",
            "Call Vega: 0.67\n",
            "Call Rho: 0.11\n",
            "\n"
          ]
        }
      ]
    },
    {
      "cell_type": "code",
      "source": [
        "# calling function to calculate geeks of row 150 -160\n",
        "for i in call.iloc[153:160]['Strike']:\n",
        "    historic_volatility(S, i, T, r, historic_volatility_value)\n",
        "    print()"
      ],
      "metadata": {
        "colab": {
          "base_uri": "https://localhost:8080/",
          "height": 339
        },
        "id": "2o2hobmiFfcP",
        "outputId": "18fdf6a1-53b0-466d-f30e-64ac1c63df4d"
      },
      "execution_count": 16,
      "outputs": [
        {
          "output_type": "error",
          "ename": "TypeError",
          "evalue": "unsupported operand type(s) for /: 'int' and 'str'",
          "traceback": [
            "\u001b[0;31m---------------------------------------------------------------------------\u001b[0m",
            "\u001b[0;31mTypeError\u001b[0m                                 Traceback (most recent call last)",
            "\u001b[0;32m<ipython-input-16-32d0fd75a6a2>\u001b[0m in \u001b[0;36m<cell line: 2>\u001b[0;34m()\u001b[0m\n\u001b[1;32m      1\u001b[0m \u001b[0;31m# calling function to calculate geeks of row 150 -160\u001b[0m\u001b[0;34m\u001b[0m\u001b[0;34m\u001b[0m\u001b[0m\n\u001b[1;32m      2\u001b[0m \u001b[0;32mfor\u001b[0m \u001b[0mi\u001b[0m \u001b[0;32min\u001b[0m \u001b[0mcall\u001b[0m\u001b[0;34m.\u001b[0m\u001b[0miloc\u001b[0m\u001b[0;34m[\u001b[0m\u001b[0;36m153\u001b[0m\u001b[0;34m:\u001b[0m\u001b[0;36m160\u001b[0m\u001b[0;34m]\u001b[0m\u001b[0;34m[\u001b[0m\u001b[0;34m'Strike'\u001b[0m\u001b[0;34m]\u001b[0m\u001b[0;34m:\u001b[0m\u001b[0;34m\u001b[0m\u001b[0;34m\u001b[0m\u001b[0m\n\u001b[0;32m----> 3\u001b[0;31m     \u001b[0mhistoric_volatility\u001b[0m\u001b[0;34m(\u001b[0m\u001b[0mS\u001b[0m\u001b[0;34m,\u001b[0m \u001b[0mi\u001b[0m\u001b[0;34m,\u001b[0m \u001b[0mT\u001b[0m\u001b[0;34m,\u001b[0m \u001b[0mr\u001b[0m\u001b[0;34m,\u001b[0m \u001b[0mhistoric_volatility_value\u001b[0m\u001b[0;34m)\u001b[0m\u001b[0;34m\u001b[0m\u001b[0;34m\u001b[0m\u001b[0m\n\u001b[0m\u001b[1;32m      4\u001b[0m     \u001b[0mprint\u001b[0m\u001b[0;34m(\u001b[0m\u001b[0;34m)\u001b[0m\u001b[0;34m\u001b[0m\u001b[0;34m\u001b[0m\u001b[0m\n",
            "\u001b[0;32m<ipython-input-12-b3cd8f8547bb>\u001b[0m in \u001b[0;36mhistoric_volatility\u001b[0;34m(S, K, T, r, sigma)\u001b[0m\n\u001b[1;32m      1\u001b[0m \u001b[0;31m#Greeks using Historical volatility\u001b[0m\u001b[0;34m\u001b[0m\u001b[0;34m\u001b[0m\u001b[0m\n\u001b[1;32m      2\u001b[0m \u001b[0;32mdef\u001b[0m \u001b[0mhistoric_volatility\u001b[0m\u001b[0;34m(\u001b[0m\u001b[0mS\u001b[0m\u001b[0;34m,\u001b[0m \u001b[0mK\u001b[0m\u001b[0;34m,\u001b[0m \u001b[0mT\u001b[0m\u001b[0;34m,\u001b[0m \u001b[0mr\u001b[0m\u001b[0;34m,\u001b[0m \u001b[0msigma\u001b[0m\u001b[0;34m)\u001b[0m\u001b[0;34m:\u001b[0m\u001b[0;34m\u001b[0m\u001b[0;34m\u001b[0m\u001b[0m\n\u001b[0;32m----> 3\u001b[0;31m     \u001b[0mcall_delta_value\u001b[0m \u001b[0;34m=\u001b[0m \u001b[0mcall_delta\u001b[0m\u001b[0;34m(\u001b[0m\u001b[0mS\u001b[0m\u001b[0;34m,\u001b[0m \u001b[0mK\u001b[0m\u001b[0;34m,\u001b[0m \u001b[0mT\u001b[0m\u001b[0;34m,\u001b[0m \u001b[0mr\u001b[0m\u001b[0;34m,\u001b[0m \u001b[0msigma\u001b[0m\u001b[0;34m)\u001b[0m\u001b[0;34m\u001b[0m\u001b[0;34m\u001b[0m\u001b[0m\n\u001b[0m\u001b[1;32m      4\u001b[0m     \u001b[0mcall_gamma_value\u001b[0m \u001b[0;34m=\u001b[0m \u001b[0mcall_gamma\u001b[0m\u001b[0;34m(\u001b[0m\u001b[0mS\u001b[0m\u001b[0;34m,\u001b[0m \u001b[0mK\u001b[0m\u001b[0;34m,\u001b[0m \u001b[0mT\u001b[0m\u001b[0;34m,\u001b[0m \u001b[0mr\u001b[0m\u001b[0;34m,\u001b[0m \u001b[0msigma\u001b[0m\u001b[0;34m)\u001b[0m\u001b[0;34m\u001b[0m\u001b[0;34m\u001b[0m\u001b[0m\n\u001b[1;32m      5\u001b[0m     \u001b[0mcall_theta_value\u001b[0m \u001b[0;34m=\u001b[0m \u001b[0mcall_theta\u001b[0m\u001b[0;34m(\u001b[0m\u001b[0mS\u001b[0m\u001b[0;34m,\u001b[0m \u001b[0mK\u001b[0m\u001b[0;34m,\u001b[0m \u001b[0mT\u001b[0m\u001b[0;34m,\u001b[0m \u001b[0mr\u001b[0m\u001b[0;34m,\u001b[0m \u001b[0msigma\u001b[0m\u001b[0;34m)\u001b[0m\u001b[0;34m\u001b[0m\u001b[0;34m\u001b[0m\u001b[0m\n",
            "\u001b[0;32m<ipython-input-8-18393b7227ad>\u001b[0m in \u001b[0;36mcall_delta\u001b[0;34m(S, K, T, r, sigma)\u001b[0m\n\u001b[1;32m      1\u001b[0m \u001b[0;31m# functions for option geeks\u001b[0m\u001b[0;34m\u001b[0m\u001b[0;34m\u001b[0m\u001b[0m\n\u001b[1;32m      2\u001b[0m \u001b[0;32mdef\u001b[0m \u001b[0mcall_delta\u001b[0m\u001b[0;34m(\u001b[0m\u001b[0mS\u001b[0m\u001b[0;34m,\u001b[0m \u001b[0mK\u001b[0m\u001b[0;34m,\u001b[0m \u001b[0mT\u001b[0m\u001b[0;34m,\u001b[0m \u001b[0mr\u001b[0m\u001b[0;34m,\u001b[0m \u001b[0msigma\u001b[0m\u001b[0;34m)\u001b[0m\u001b[0;34m:\u001b[0m\u001b[0;34m\u001b[0m\u001b[0;34m\u001b[0m\u001b[0m\n\u001b[0;32m----> 3\u001b[0;31m     \u001b[0md1\u001b[0m \u001b[0;34m=\u001b[0m \u001b[0;34m(\u001b[0m\u001b[0mnp\u001b[0m\u001b[0;34m.\u001b[0m\u001b[0mlog\u001b[0m\u001b[0;34m(\u001b[0m\u001b[0mS\u001b[0m \u001b[0;34m/\u001b[0m \u001b[0mK\u001b[0m\u001b[0;34m)\u001b[0m \u001b[0;34m+\u001b[0m \u001b[0;34m(\u001b[0m\u001b[0mr\u001b[0m \u001b[0;34m+\u001b[0m \u001b[0;36m0.5\u001b[0m \u001b[0;34m*\u001b[0m \u001b[0msigma\u001b[0m \u001b[0;34m**\u001b[0m \u001b[0;36m2\u001b[0m\u001b[0;34m)\u001b[0m \u001b[0;34m*\u001b[0m \u001b[0mT\u001b[0m\u001b[0;34m)\u001b[0m \u001b[0;34m/\u001b[0m \u001b[0;34m(\u001b[0m\u001b[0msigma\u001b[0m \u001b[0;34m*\u001b[0m \u001b[0mnp\u001b[0m\u001b[0;34m.\u001b[0m\u001b[0msqrt\u001b[0m\u001b[0;34m(\u001b[0m\u001b[0mT\u001b[0m\u001b[0;34m)\u001b[0m\u001b[0;34m)\u001b[0m\u001b[0;34m\u001b[0m\u001b[0;34m\u001b[0m\u001b[0m\n\u001b[0m\u001b[1;32m      4\u001b[0m     \u001b[0mdelta\u001b[0m \u001b[0;34m=\u001b[0m \u001b[0mnorm\u001b[0m\u001b[0;34m.\u001b[0m\u001b[0mcdf\u001b[0m\u001b[0;34m(\u001b[0m\u001b[0md1\u001b[0m\u001b[0;34m)\u001b[0m\u001b[0;34m\u001b[0m\u001b[0;34m\u001b[0m\u001b[0m\n\u001b[1;32m      5\u001b[0m     \u001b[0;32mreturn\u001b[0m \u001b[0mdelta\u001b[0m\u001b[0;34m\u001b[0m\u001b[0;34m\u001b[0m\u001b[0m\n",
            "\u001b[0;31mTypeError\u001b[0m: unsupported operand type(s) for /: 'int' and 'str'"
          ]
        }
      ]
    },
    {
      "cell_type": "code",
      "source": [
        "# frequency count of Gamma for call option\n",
        "gamma_values = call[call['Gamma'] != 0]['Gamma'].unique()\n",
        "plt.figure(figsize=(10, 6))\n",
        "plt.hist(gamma_values, bins=len(gamma_values), color='skyblue', edgecolor='black')\n",
        "plt.xlabel('Gamma Value')\n",
        "plt.ylabel('Frequency')\n",
        "plt.title('Unique Gamma Values Count')\n",
        "plt.grid(True, linestyle='--', alpha=0.1)\n",
        "plt.show()"
      ],
      "metadata": {
        "id": "siuNDLE_m_DR"
      },
      "execution_count": null,
      "outputs": []
    },
    {
      "cell_type": "code",
      "source": [
        "# frequency count of Gamma for put option\n",
        "gamma_values = put[put['Gamma'] != 0]['Gamma'].unique()\n",
        "plt.figure(figsize=(10, 6))\n",
        "plt.hist(gamma_values, bins=len(gamma_values), color='skyblue', edgecolor='black')\n",
        "plt.xlabel('Gamma Value')\n",
        "plt.ylabel('Frequency')\n",
        "plt.title('Unique Gamma Values Count')\n",
        "plt.grid(True, linestyle='--', alpha=0.1)\n",
        "plt.show()"
      ],
      "metadata": {
        "id": "IKfbnXiNwiEm"
      },
      "execution_count": null,
      "outputs": []
    },
    {
      "cell_type": "markdown",
      "source": [
        "# **Strike Price vs Delta**"
      ],
      "metadata": {
        "id": "0p93Ty0A5lr8"
      }
    },
    {
      "cell_type": "code",
      "source": [
        "def strikePriceVsDelta(df, x_col, y_col, x_label, y_label, title):\n",
        "    if df[x_col].dtype == object:\n",
        "        df[x_col] = df[x_col].str.replace(',', '').astype(float)\n",
        "\n",
        "    plt.figure(figsize=(12, 6))\n",
        "    plt.style.use('dark_background')\n",
        "\n",
        "    x = df[x_col]\n",
        "    y = df[y_col].values\n",
        "\n",
        "    # y values\n",
        "    plt.stackplot(x, y, labels=[y_label], colors=['cyan'], baseline='zero', edgecolor='black', linewidth=0.5, alpha=0.5)\n",
        "\n",
        "    plt.xlabel(x_label, fontsize=12, color='white')\n",
        "    plt.ylabel(y_label, fontsize=12, color='white')\n",
        "    plt.title(title, fontsize=14, color='white')\n",
        "\n",
        "    # labels for better visibility\n",
        "    num_xticks = 10\n",
        "    x_ticks = np.linspace(df[x_col].min(), df[x_col].max(), num_xticks)\n",
        "    x_tick_labels = [f\"{int(x)}\" for x in x_ticks]\n",
        "    plt.xticks(x_ticks, x_tick_labels, fontsize=10, rotation=45, color='white')\n",
        "\n",
        "    y_min, y_max = df[y_col].min(), df[y_col].max()\n",
        "    y_ticks = np.linspace(y_min, y_max, num=10)\n",
        "    plt.yticks(y_ticks, fontsize=10, color='white')\n",
        "\n",
        "    ax = plt.gca()\n",
        "    ax.spines['bottom'].set_color('none')\n",
        "    ax.tick_params(axis='x', which='both', length=0)\n",
        "    plt.grid(True, linestyle='--', alpha=0.3, color='gray')\n",
        "    plt.legend(loc='best', fontsize=12, facecolor='black', edgecolor='white', labelcolor='red')\n",
        "    plt.tight_layout()\n",
        "    plt.show()"
      ],
      "metadata": {
        "id": "Y2YmPheoxnW1"
      },
      "execution_count": null,
      "outputs": []
    },
    {
      "cell_type": "code",
      "source": [
        "strikePriceVsDelta(call, 'Strike', 'Delta', 'Strike Price', 'Delta Call', 'Strike Price vs Delta for Calls')"
      ],
      "metadata": {
        "id": "vvtqiyISxpOl"
      },
      "execution_count": null,
      "outputs": []
    },
    {
      "cell_type": "code",
      "source": [
        "strikePriceVsDelta(put, 'Strike', 'Delta', 'Strike Price', 'Delta Put', 'Strike Price vs Delta for Puts')"
      ],
      "metadata": {
        "id": "2lMg8QsPxrTV"
      },
      "execution_count": null,
      "outputs": []
    },
    {
      "cell_type": "markdown",
      "source": [
        "# **Strike Price vs Gamma**"
      ],
      "metadata": {
        "id": "BxmpZWwX5sTb"
      }
    },
    {
      "cell_type": "code",
      "source": [
        "def strikePriceVsGamma(df, x_col, y_col, x_label, y_label, title):\n",
        "    if df[x_col].dtype == object:\n",
        "        df[x_col] = df[x_col].str.replace(',', '').astype(float)\n",
        "\n",
        "    plt.figure(figsize=(12, 6))\n",
        "    plt.style.use('dark_background')\n",
        "\n",
        "    x = df[x_col]\n",
        "    y = df[y_col].values\n",
        "\n",
        "    # y values\n",
        "    plt.stackplot(x, y, labels=[y_label], colors=['red'], baseline='zero', edgecolor='black', linewidth=0.5)\n",
        "\n",
        "    plt.xlabel(x_label, fontsize=12, color='white')\n",
        "    plt.ylabel(y_label, fontsize=12, color='white')\n",
        "    plt.title(title, fontsize=14, color='white')\n",
        "\n",
        "    # labels for better visibility\n",
        "    num_xticks = 10\n",
        "    x_ticks = np.linspace(df[x_col].min(), df[x_col].max(), num_xticks)\n",
        "    x_tick_labels = [f\"{int(x)}\" for x in x_ticks]\n",
        "    plt.xticks(x_ticks, x_tick_labels, fontsize=10, rotation=45, color='white')\n",
        "\n",
        "    y_min, y_max = df[y_col].min(), df[y_col].max()\n",
        "    y_ticks = np.linspace(y_min, y_max, num=10)\n",
        "    plt.yticks(y_ticks, fontsize=10, color='white')\n",
        "\n",
        "    ax = plt.gca()\n",
        "    ax.spines['bottom'].set_color('none')\n",
        "    ax.tick_params(axis='x', which='both', length=0)\n",
        "    plt.grid(True, linestyle='--', alpha=0.3, color='gray')\n",
        "    plt.legend(loc='best', fontsize=12, facecolor='black', edgecolor='white', labelcolor='white')\n",
        "    plt.tight_layout()\n",
        "    plt.show()\n"
      ],
      "metadata": {
        "id": "mzKc8JBfbm8A"
      },
      "execution_count": null,
      "outputs": []
    },
    {
      "cell_type": "code",
      "source": [
        "strikePriceVsGamma(call, 'Strike', 'Gamma', 'Strike Price', 'Gamma call', 'Strike Price vs Gamma')"
      ],
      "metadata": {
        "id": "j9w05_stl8-w"
      },
      "execution_count": null,
      "outputs": []
    },
    {
      "cell_type": "code",
      "source": [
        "strikePriceVsGamma(put, 'Strike', 'Gamma', 'Strike Price', 'Gamma', 'Strike Price vs Gamma')"
      ],
      "metadata": {
        "id": "dycdyswgwqyU"
      },
      "execution_count": null,
      "outputs": []
    },
    {
      "cell_type": "markdown",
      "source": [
        "# **Strike Price vs Theta**"
      ],
      "metadata": {
        "id": "xd19hbDP5vKT"
      }
    },
    {
      "cell_type": "code",
      "source": [
        "def strikePriceVsTheta(df, x_col, y_col, x_label, y_label, title):\n",
        "    if df[x_col].dtype == object:\n",
        "        df[x_col] = df[x_col].str.replace(',', '').astype(float)\n",
        "\n",
        "    plt.figure(figsize=(12, 6))\n",
        "    plt.style.use('dark_background')\n",
        "    df_sorted = df.sort_values(by=x_col)\n",
        "\n",
        "    x = df_sorted[x_col]\n",
        "\n",
        "    y = df_sorted[y_col].values\n",
        "    y = np.array(y).reshape(1, -1)\n",
        "    plt.stackplot(x, y, labels=[y_label], colors=['green'], baseline='zero', edgecolor='black', linewidth=0.5)\n",
        "\n",
        "    plt.xlabel(x_label, fontsize=12, color='white')\n",
        "    plt.ylabel(y_label, fontsize=12, color='white')\n",
        "    plt.title(title, fontsize=14, color='white')\n",
        "    num_xticks = 10\n",
        "    x_ticks = np.linspace(df[x_col].min(), df[x_col].max(), num_xticks)\n",
        "    x_tick_labels = [f\"{int(x)}\" for x in x_ticks]\n",
        "    plt.xticks(x_ticks, x_tick_labels, fontsize=10, rotation=45, color='white')\n",
        "\n",
        "    y_min, y_max = df[y_col].min(), df[y_col].max()\n",
        "    y_ticks = np.linspace(y_min, y_max, num=10)\n",
        "    plt.yticks(y_ticks, fontsize=10, color='white')\n",
        "\n",
        "    ax = plt.gca()\n",
        "    ax.spines['bottom'].set_color('none')\n",
        "    ax.tick_params(axis='x', which='both', length=0)\n",
        "    plt.grid(True, linestyle='--', alpha=0.3, color='gray')\n",
        "    plt.legend(loc='best', fontsize=12, facecolor='black', edgecolor='white', labelcolor='white')\n",
        "    plt.tight_layout()\n",
        "    plt.show()\n"
      ],
      "metadata": {
        "id": "p7D46LECemGt"
      },
      "execution_count": null,
      "outputs": []
    },
    {
      "cell_type": "code",
      "source": [
        "strikePriceVsTheta(df=call,\n",
        "                   x_col='Strike',\n",
        "                   y_col='Theta',\n",
        "                   x_label='Strike Price',\n",
        "                   y_label='Theta',\n",
        "                   title='Strike Price vs. Theta')"
      ],
      "metadata": {
        "id": "ar77cQsMe8uu"
      },
      "execution_count": null,
      "outputs": []
    },
    {
      "cell_type": "code",
      "source": [
        "strikePriceVsTheta(df=put,\n",
        "                   x_col='Strike',\n",
        "                   y_col='Theta',\n",
        "                   x_label='Strike Price',\n",
        "                   y_label='Theta',\n",
        "                   title='Strike Price vs. Theta')"
      ],
      "metadata": {
        "id": "LACDQ910sxdT"
      },
      "execution_count": null,
      "outputs": []
    },
    {
      "cell_type": "markdown",
      "source": [
        "# **Strike Price vs Vega**"
      ],
      "metadata": {
        "id": "TDRioQVc5xlD"
      }
    },
    {
      "cell_type": "code",
      "source": [
        "def StrikePriceVsVega(df, x_col, y_col, x_label, y_label, title):\n",
        "    if df[x_col].dtype == object:\n",
        "        df[x_col] = df[x_col].str.replace(',', '').astype(float)\n",
        "\n",
        "    plt.figure(figsize=(12, 6))\n",
        "    plt.style.use('dark_background')\n",
        "\n",
        "    x = df[x_col]\n",
        "    y = df[y_col].values\n",
        "\n",
        "    # y values\n",
        "    plt.stackplot(x, y, labels=[y_label], colors=['orange'], baseline='zero', edgecolor='black', linewidth=0.5)\n",
        "\n",
        "    plt.xlabel(x_label, fontsize=12, color='white')\n",
        "    plt.ylabel(y_label, fontsize=12, color='white')\n",
        "    plt.title(title, fontsize=14, color='white')\n",
        "\n",
        "    # labels for better visibility\n",
        "    num_xticks = 10\n",
        "    x_ticks = np.linspace(df[x_col].min(), df[x_col].max(), num_xticks)\n",
        "    x_tick_labels = [f\"{int(x)}\" for x in x_ticks]\n",
        "    plt.xticks(x_ticks, x_tick_labels, fontsize=10, rotation=45, color='white')\n",
        "\n",
        "    # color for visibility\n",
        "    y_min, y_max = df[y_col].min(), df[y_col].max()\n",
        "    y_ticks = np.linspace(y_min, y_max, num=10)\n",
        "    plt.yticks(y_ticks, fontsize=10, color='white')\n",
        "\n",
        "    ax = plt.gca()\n",
        "    ax.spines['bottom'].set_color('none')\n",
        "    ax.tick_params(axis='x', which='both', length=0)\n",
        "    plt.grid(True, linestyle='--', alpha=0.3, color='gray')\n",
        "    plt.legend(loc='best', fontsize=12, facecolor='black', edgecolor='white', labelcolor='white')\n",
        "    plt.tight_layout()\n",
        "    plt.show()"
      ],
      "metadata": {
        "id": "6BDp5iEVtUPs"
      },
      "execution_count": null,
      "outputs": []
    },
    {
      "cell_type": "code",
      "source": [
        "StrikePriceVsVega(call, 'Strike', 'Vega', 'Strike Price', 'Vega Call', 'Strike Price vs Vega for Call')"
      ],
      "metadata": {
        "id": "VKor9takyZIR"
      },
      "execution_count": null,
      "outputs": []
    },
    {
      "cell_type": "code",
      "source": [
        "StrikePriceVsVega(put, 'Strike', 'Vega', 'Strike Price', 'Vega Put', 'Strike Price vs Vega for Put')"
      ],
      "metadata": {
        "id": "XlSvjRDIyHNd"
      },
      "execution_count": null,
      "outputs": []
    },
    {
      "cell_type": "markdown",
      "source": [
        "# **Strike Price vs Rho**"
      ],
      "metadata": {
        "id": "txGRvJY650R8"
      }
    },
    {
      "cell_type": "code",
      "source": [
        "def strikePriceVsRho(df, x_col, y_col, x_label, y_label, title):\n",
        "    if df[x_col].dtype == object:\n",
        "        df[x_col] = df[x_col].str.replace(',', '').astype(float)\n",
        "\n",
        "    plt.figure(figsize=(12, 6))\n",
        "    plt.style.use('dark_background')\n",
        "\n",
        "    x = df[x_col]\n",
        "    y = df[y_col].values\n",
        "\n",
        "    plt.stackplot(x, y, labels=[y_label], colors=['yellow'], baseline='zero', edgecolor='black', linewidth=0.5)\n",
        "\n",
        "    plt.xlabel(x_label, fontsize=12, color='white')\n",
        "    plt.ylabel(y_label, fontsize=12, color='white')\n",
        "    plt.title(title, fontsize=14, color='white')\n",
        "\n",
        "    num_xticks = 10\n",
        "    x_ticks = np.linspace(df[x_col].min(), df[x_col].max(), num_xticks)\n",
        "    x_tick_labels = [f\"{int(x)}\" for x in x_ticks]\n",
        "    plt.xticks(x_ticks, x_tick_labels, fontsize=10, rotation=45, color='white')\n",
        "\n",
        "    y_min, y_max = df[y_col].min(), df[y_col].max()\n",
        "    y_ticks = np.linspace(y_min, y_max, num=10)\n",
        "    plt.yticks(y_ticks, fontsize=10, color='white')\n",
        "\n",
        "    ax = plt.gca()\n",
        "    ax.spines['bottom'].set_color('none')\n",
        "    ax.tick_params(axis='x', which='both', length=0)\n",
        "    plt.grid(True, linestyle='--', alpha=0.3, color='gray')\n",
        "    plt.legend(loc='best', fontsize=12, facecolor='black', edgecolor='white', labelcolor='red')\n",
        "    plt.tight_layout()\n",
        "    plt.show()"
      ],
      "metadata": {
        "id": "c85HpRszyMAO"
      },
      "execution_count": null,
      "outputs": []
    },
    {
      "cell_type": "code",
      "source": [
        "strikePriceVsRho(calls, 'Strike', 'Rho', 'Strike Price', 'Rho Call', 'Strike Price vs Rho for Calls')"
      ],
      "metadata": {
        "id": "WE5rWj1HykYj"
      },
      "execution_count": null,
      "outputs": []
    },
    {
      "cell_type": "code",
      "source": [
        "strikePriceVsRho(puts, 'Strike', 'Rho', 'Strike Price', 'Rho Put', 'Strike Price vs Rho for Puts')"
      ],
      "metadata": {
        "id": "GJZH-AV4ykaz"
      },
      "execution_count": null,
      "outputs": []
    },
    {
      "cell_type": "markdown",
      "source": [
        "# **Option Greeks**"
      ],
      "metadata": {
        "id": "bjygMXPL52U6"
      }
    },
    {
      "cell_type": "code",
      "source": [
        "def greeks(df, greek_labels):\n",
        "    plt.figure(figsize=(12, 6))\n",
        "    plt.style.use('dark_background')\n",
        "\n",
        "    for greek_label in greek_labels:\n",
        "        plt.plot(df['Strike'], df[greek_label], label=greek_label)\n",
        "\n",
        "    plt.xlabel('Strike Price', fontsize=12, color='white')\n",
        "    plt.ylabel('Value', fontsize=12, color='white')\n",
        "    plt.title('Strike Price vs Greeks', fontsize=14, color='white')\n",
        "    plt.grid(True, linestyle='--', alpha=0.3, color='gray')\n",
        "    plt.legend(loc='best', fontsize=12, facecolor='black', edgecolor='white', labelcolor='white')\n",
        "    plt.tight_layout()\n",
        "    plt.show()\n",
        "\n",
        "greek_variables = ['Delta', 'Theta', 'Gamma', 'Vega', 'Rho']"
      ],
      "metadata": {
        "id": "3Efe4HPaykdk"
      },
      "execution_count": null,
      "outputs": []
    },
    {
      "cell_type": "code",
      "source": [
        "greeks(call, greek_variables)"
      ],
      "metadata": {
        "id": "iWn26tRfzZE9"
      },
      "execution_count": null,
      "outputs": []
    },
    {
      "cell_type": "code",
      "source": [
        "greeks(put, greek_variables)"
      ],
      "metadata": {
        "id": "JeI7D2Wr0Diu"
      },
      "execution_count": null,
      "outputs": []
    },
    {
      "cell_type": "markdown",
      "source": [
        "# **Correaltion analysis on Greeks**"
      ],
      "metadata": {
        "id": "3jabR5ss57Ek"
      }
    },
    {
      "cell_type": "code",
      "source": [
        "# Delta and Vega\n",
        "plt.figure(figsize=(10, 6))\n",
        "plt.style.use('dark_background')\n",
        "plt.plot(call['Delta'], call['Vega'], label='Calls')\n",
        "plt.plot(put['Delta'], put['Vega'], label='Puts')\n",
        "plt.xlabel('Delta', fontsize=12, color='white')\n",
        "plt.ylabel('Vega', fontsize=12, color='white')\n",
        "plt.title('Delta & Vega', fontsize=14, color='white')\n",
        "plt.grid(True, linestyle='--', alpha=0.3, color='gray')\n",
        "plt.legend(loc='best', fontsize=12, facecolor='black', edgecolor='white', labelcolor='white')\n",
        "plt.tight_layout()\n",
        "plt.show()"
      ],
      "metadata": {
        "id": "vEpiQdml0M0u"
      },
      "execution_count": null,
      "outputs": []
    },
    {
      "cell_type": "code",
      "source": [
        "# Delta and Gamma\n",
        "plt.figure(figsize=(10, 6))\n",
        "plt.style.use('dark_background')\n",
        "plt.plot(call['Delta'], call['Gamma'], label='Calls')\n",
        "plt.plot(put['Delta'], put['Gamma'], label='Puts')\n",
        "plt.xlabel('Delta', fontsize=12, color='white')\n",
        "plt.ylabel('Gamma', fontsize=12, color='white')\n",
        "plt.title('Delta & Gamma', fontsize=14, color='white')\n",
        "plt.grid(True, linestyle='--', alpha=0.3, color='gray')\n",
        "plt.legend(loc='best', fontsize=12, facecolor='black', edgecolor='white', labelcolor='white')\n",
        "plt.tight_layout()\n",
        "plt.show()"
      ],
      "metadata": {
        "id": "R2vSgDe40dVv"
      },
      "execution_count": null,
      "outputs": []
    },
    {
      "cell_type": "code",
      "source": [
        "# Delta and Theta\n",
        "plt.figure(figsize=(10, 6))\n",
        "plt.style.use('dark_background')\n",
        "plt.plot(call['Delta'], call['Theta'], label='Calls')\n",
        "plt.plot(put['Delta'], put['Theta'], label='Puts')\n",
        "plt.xlabel('Delta', fontsize=12, color='white')\n",
        "plt.ylabel('Theta', fontsize=12, color='white')\n",
        "plt.title('Delta & Theta', fontsize=14, color='white')\n",
        "plt.grid(True, linestyle='--', alpha=0.3, color='gray')\n",
        "plt.legend(loc='best', fontsize=12, facecolor='black', edgecolor='white', labelcolor='white')\n",
        "plt.tight_layout()\n",
        "plt.show()"
      ],
      "metadata": {
        "id": "R_POgezU1BZK"
      },
      "execution_count": null,
      "outputs": []
    },
    {
      "cell_type": "code",
      "source": [
        "# Delta and Rho\n",
        "plt.figure(figsize=(10, 6))\n",
        "plt.style.use('dark_background')\n",
        "plt.scatter(call['Delta'], call['Rho'], label='Calls', s=20)\n",
        "plt.scatter(put['Delta'], put['Rho'], label='Puts', s=20)\n",
        "plt.plot(call['Delta'], call['Rho'], label='Calls')\n",
        "plt.plot(put['Delta'], put['Rho'], label='Puts')\n",
        "plt.xlabel('Delta', fontsize=12, color='white')\n",
        "plt.ylabel('Rho', fontsize=12, color='white')\n",
        "plt.title('Delta & Rho', fontsize=14, color='white')\n",
        "plt.grid(True, linestyle='--', alpha=0.3, color='gray')\n",
        "plt.legend(loc='best', fontsize=12, facecolor='black', edgecolor='white', labelcolor='white')\n",
        "plt.tight_layout()\n",
        "plt.show()"
      ],
      "metadata": {
        "id": "dPX11voz1Tlc"
      },
      "execution_count": null,
      "outputs": []
    },
    {
      "cell_type": "code",
      "source": [
        "# Vega and Gamma\n",
        "plt.figure(figsize=(10, 6))\n",
        "plt.style.use('dark_background')\n",
        "plt.scatter(call['Vega'], call['Gamma'], label='Calls')\n",
        "plt.scatter(put['Vega'], put['Gamma'], label='Puts')\n",
        "plt.xlabel('Vega', fontsize=12, color='white')\n",
        "plt.ylabel('Gamma', fontsize=12, color='white')\n",
        "plt.title('Vega & Gamma', fontsize=14, color='white')\n",
        "plt.grid(True, linestyle='--', alpha=0.3, color='gray')\n",
        "plt.legend(loc='best', fontsize=12, facecolor='black', edgecolor='white', labelcolor='white')\n",
        "plt.tight_layout()\n",
        "plt.show()"
      ],
      "metadata": {
        "id": "gPI3AwHb1dRP"
      },
      "execution_count": null,
      "outputs": []
    },
    {
      "cell_type": "code",
      "source": [
        "# Vega and Theta\n",
        "plt.figure(figsize=(10, 6))\n",
        "plt.style.use('dark_background')\n",
        "plt.scatter(call['Vega'], call['Theta'], label='Calls')\n",
        "plt.scatter(put['Vega'], put['Theta'], label='Puts')\n",
        "plt.xlabel('Vega', fontsize=12, color='white')\n",
        "plt.ylabel('Theta', fontsize=12, color='white')\n",
        "plt.title('Vega & Theta', fontsize=14, color='white')\n",
        "plt.grid(True, linestyle='--', alpha=0.3, color='gray')\n",
        "plt.legend(loc='best', fontsize=12, facecolor='black', edgecolor='white', labelcolor='white')\n",
        "plt.tight_layout()\n",
        "plt.show()"
      ],
      "metadata": {
        "id": "bo7GMhhy1xSo"
      },
      "execution_count": null,
      "outputs": []
    },
    {
      "cell_type": "code",
      "source": [
        "# Gamma and Theta\n",
        "plt.figure(figsize=(10, 6))\n",
        "plt.style.use('dark_background')\n",
        "plt.scatter(call['Gamma'], call['Theta'], label='Calls')\n",
        "plt.scatter(put['Gamma'], put['Theta'], label='Puts')\n",
        "plt.xlabel('Gamma', fontsize=12, color='white')\n",
        "plt.ylabel('Theta', fontsize=12, color='white')\n",
        "plt.title('Gamma & Theta', fontsize=14, color='white')\n",
        "plt.grid(True, linestyle='--', alpha=0.3, color='gray')\n",
        "plt.legend(loc='best', fontsize=12, facecolor='black', edgecolor='white', labelcolor='white')\n",
        "plt.tight_layout()\n",
        "plt.show()"
      ],
      "metadata": {
        "id": "QmZ8k5va2Nph"
      },
      "execution_count": null,
      "outputs": []
    }
  ]
}